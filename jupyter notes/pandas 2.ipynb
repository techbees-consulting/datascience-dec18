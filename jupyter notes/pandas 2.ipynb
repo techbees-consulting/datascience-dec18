{
 "cells": [
  {
   "cell_type": "code",
   "execution_count": 5,
   "metadata": {},
   "outputs": [
    {
     "data": {
      "text/plain": [
       "['cnn.gif',\n",
       " 'code',\n",
       " 'data sets',\n",
       " 'docs',\n",
       " 'lecture notes',\n",
       " 'ppts',\n",
       " 'sql data 2.sql']"
      ]
     },
     "execution_count": 5,
     "metadata": {},
     "output_type": "execute_result"
    }
   ],
   "source": [
    "import os\n",
    "os.listdir()"
   ]
  },
  {
   "cell_type": "code",
   "execution_count": 3,
   "metadata": {},
   "outputs": [],
   "source": [
    "os.chdir('C:/Users/ak\\Desktop/techbees')"
   ]
  },
  {
   "cell_type": "code",
   "execution_count": 6,
   "metadata": {},
   "outputs": [],
   "source": [
    "os.chdir('data sets')"
   ]
  },
  {
   "cell_type": "code",
   "execution_count": 8,
   "metadata": {},
   "outputs": [],
   "source": [
    "import numpy as np\n",
    "import pandas as pd\n",
    "import math"
   ]
  },
  {
   "cell_type": "code",
   "execution_count": 9,
   "metadata": {},
   "outputs": [],
   "source": [
    "market_data=pd.read_csv('market_fact.csv')"
   ]
  },
  {
   "cell_type": "code",
   "execution_count": 11,
   "metadata": {},
   "outputs": [
    {
     "name": "stdout",
     "output_type": "stream",
     "text": [
      "(8399, 10)\n",
      "Ord_id                  object\n",
      "Prod_id                 object\n",
      "Ship_id                 object\n",
      "Cust_id                 object\n",
      "Sales                  float64\n",
      "Discount               float64\n",
      "Order_Quantity           int64\n",
      "Profit                 float64\n",
      "Shipping_Cost          float64\n",
      "Product_Base_Margin    float64\n",
      "dtype: object\n"
     ]
    }
   ],
   "source": [
    "print(market_data.shape)\n",
    "print(market_data.dtypes)"
   ]
  }
 ],
 "metadata": {
  "kernelspec": {
   "display_name": "Python 3",
   "language": "python",
   "name": "python3"
  },
  "language_info": {
   "codemirror_mode": {
    "name": "ipython",
    "version": 3
   },
   "file_extension": ".py",
   "mimetype": "text/x-python",
   "name": "python",
   "nbconvert_exporter": "python",
   "pygments_lexer": "ipython3",
   "version": "3.7.1"
  }
 },
 "nbformat": 4,
 "nbformat_minor": 2
}
