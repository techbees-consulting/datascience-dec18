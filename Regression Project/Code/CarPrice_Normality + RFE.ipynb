{
 "cells": [
  {
   "cell_type": "code",
   "execution_count": 1,
   "metadata": {},
   "outputs": [],
   "source": [
    "import pandas as pd\n",
    "import numpy as np\n",
    "import matplotlib.pyplot as plt\n",
    "import seaborn as sns\n",
    "import warnings"
   ]
  },
  {
   "cell_type": "code",
   "execution_count": 2,
   "metadata": {},
   "outputs": [],
   "source": [
    "%matplotlib inline"
   ]
  },
  {
   "cell_type": "code",
   "execution_count": 3,
   "metadata": {},
   "outputs": [],
   "source": [
    "warnings.filterwarnings(action='ignore')"
   ]
  },
  {
   "cell_type": "code",
   "execution_count": 4,
   "metadata": {},
   "outputs": [],
   "source": [
    "# Regression Related lib\n",
    "\n",
    "from sklearn.model_selection import train_test_split\n",
    "from sklearn.feature_selection import RFE\n",
    "from sklearn.linear_model import LinearRegression\n",
    "from sklearn import metrics\n",
    "import statsmodels.api as sm"
   ]
  },
  {
   "cell_type": "code",
   "execution_count": 7,
   "metadata": {},
   "outputs": [],
   "source": [
    "import os\n",
    "os.getcwd()\n",
    "os.chdir('..')"
   ]
  },
  {
   "cell_type": "code",
   "execution_count": 8,
   "metadata": {},
   "outputs": [],
   "source": [
    "car = pd.read_csv('CarPrice_Assignment.csv')"
   ]
  },
  {
   "cell_type": "code",
   "execution_count": null,
   "metadata": {},
   "outputs": [],
   "source": [
    "car.head()"
   ]
  },
  {
   "cell_type": "code",
   "execution_count": null,
   "metadata": {},
   "outputs": [],
   "source": [
    "car.shape"
   ]
  },
  {
   "cell_type": "code",
   "execution_count": null,
   "metadata": {},
   "outputs": [],
   "source": [
    "car.info(memory_usage=True,null_counts=True)"
   ]
  },
  {
   "cell_type": "code",
   "execution_count": 9,
   "metadata": {},
   "outputs": [],
   "source": [
    "train = car.drop(columns='car_ID')"
   ]
  },
  {
   "cell_type": "code",
   "execution_count": null,
   "metadata": {},
   "outputs": [],
   "source": [
    "train.shape"
   ]
  },
  {
   "cell_type": "code",
   "execution_count": null,
   "metadata": {},
   "outputs": [],
   "source": [
    "train.info()"
   ]
  },
  {
   "cell_type": "code",
   "execution_count": null,
   "metadata": {
    "scrolled": false
   },
   "outputs": [],
   "source": [
    "train.head()\n"
   ]
  },
  {
   "cell_type": "code",
   "execution_count": 10,
   "metadata": {},
   "outputs": [
    {
     "data": {
      "text/plain": [
       "int64       7\n",
       "object     10\n",
       "float64     8\n",
       "dtype: int64"
      ]
     },
     "execution_count": 10,
     "metadata": {},
     "output_type": "execute_result"
    }
   ],
   "source": [
    "train.get_dtype_counts()"
   ]
  },
  {
   "cell_type": "markdown",
   "metadata": {},
   "source": [
    "#### Extract the brand name from CarName Variable"
   ]
  },
  {
   "cell_type": "code",
   "execution_count": 11,
   "metadata": {},
   "outputs": [],
   "source": [
    "train['brand_Name'] = train['CarName'].str.split(expand=True)[0]"
   ]
  },
  {
   "cell_type": "code",
   "execution_count": null,
   "metadata": {},
   "outputs": [],
   "source": [
    "train.get_dtype_counts()"
   ]
  },
  {
   "cell_type": "code",
   "execution_count": 12,
   "metadata": {},
   "outputs": [],
   "source": [
    "\n",
    "train = train.drop(columns='CarName')"
   ]
  },
  {
   "cell_type": "code",
   "execution_count": null,
   "metadata": {
    "scrolled": true
   },
   "outputs": [],
   "source": [
    "train.head()"
   ]
  },
  {
   "cell_type": "code",
   "execution_count": null,
   "metadata": {},
   "outputs": [],
   "source": [
    "train.get_dtype_counts()"
   ]
  },
  {
   "cell_type": "code",
   "execution_count": null,
   "metadata": {
    "scrolled": false
   },
   "outputs": [],
   "source": [
    "train.memory_usage(deep=True)"
   ]
  },
  {
   "cell_type": "code",
   "execution_count": null,
   "metadata": {
    "scrolled": true
   },
   "outputs": [],
   "source": [
    "train.get_dtype_counts()"
   ]
  },
  {
   "cell_type": "markdown",
   "metadata": {},
   "source": [
    "                        #### Check the data Quality on Each Variable"
   ]
  },
  {
   "cell_type": "code",
   "execution_count": 13,
   "metadata": {
    "scrolled": false
   },
   "outputs": [
    {
     "data": {
      "text/html": [
       "<div>\n",
       "<style scoped>\n",
       "    .dataframe tbody tr th:only-of-type {\n",
       "        vertical-align: middle;\n",
       "    }\n",
       "\n",
       "    .dataframe tbody tr th {\n",
       "        vertical-align: top;\n",
       "    }\n",
       "\n",
       "    .dataframe thead th {\n",
       "        text-align: right;\n",
       "    }\n",
       "</style>\n",
       "<table border=\"1\" class=\"dataframe\">\n",
       "  <thead>\n",
       "    <tr style=\"text-align: right;\">\n",
       "      <th></th>\n",
       "      <th>count</th>\n",
       "      <th>mean</th>\n",
       "      <th>std</th>\n",
       "      <th>min</th>\n",
       "      <th>25%</th>\n",
       "      <th>50%</th>\n",
       "      <th>75%</th>\n",
       "      <th>max</th>\n",
       "    </tr>\n",
       "  </thead>\n",
       "  <tbody>\n",
       "    <tr>\n",
       "      <th>symboling</th>\n",
       "      <td>205.0</td>\n",
       "      <td>0.834146</td>\n",
       "      <td>1.245307</td>\n",
       "      <td>-2.00</td>\n",
       "      <td>0.00</td>\n",
       "      <td>1.00</td>\n",
       "      <td>2.00</td>\n",
       "      <td>3.00</td>\n",
       "    </tr>\n",
       "    <tr>\n",
       "      <th>wheelbase</th>\n",
       "      <td>205.0</td>\n",
       "      <td>98.756585</td>\n",
       "      <td>6.021776</td>\n",
       "      <td>86.60</td>\n",
       "      <td>94.50</td>\n",
       "      <td>97.00</td>\n",
       "      <td>102.40</td>\n",
       "      <td>120.90</td>\n",
       "    </tr>\n",
       "    <tr>\n",
       "      <th>carlength</th>\n",
       "      <td>205.0</td>\n",
       "      <td>174.049268</td>\n",
       "      <td>12.337289</td>\n",
       "      <td>141.10</td>\n",
       "      <td>166.30</td>\n",
       "      <td>173.20</td>\n",
       "      <td>183.10</td>\n",
       "      <td>208.10</td>\n",
       "    </tr>\n",
       "    <tr>\n",
       "      <th>carwidth</th>\n",
       "      <td>205.0</td>\n",
       "      <td>65.907805</td>\n",
       "      <td>2.145204</td>\n",
       "      <td>60.30</td>\n",
       "      <td>64.10</td>\n",
       "      <td>65.50</td>\n",
       "      <td>66.90</td>\n",
       "      <td>72.30</td>\n",
       "    </tr>\n",
       "    <tr>\n",
       "      <th>carheight</th>\n",
       "      <td>205.0</td>\n",
       "      <td>53.724878</td>\n",
       "      <td>2.443522</td>\n",
       "      <td>47.80</td>\n",
       "      <td>52.00</td>\n",
       "      <td>54.10</td>\n",
       "      <td>55.50</td>\n",
       "      <td>59.80</td>\n",
       "    </tr>\n",
       "    <tr>\n",
       "      <th>curbweight</th>\n",
       "      <td>205.0</td>\n",
       "      <td>2555.565854</td>\n",
       "      <td>520.680204</td>\n",
       "      <td>1488.00</td>\n",
       "      <td>2145.00</td>\n",
       "      <td>2414.00</td>\n",
       "      <td>2935.00</td>\n",
       "      <td>4066.00</td>\n",
       "    </tr>\n",
       "    <tr>\n",
       "      <th>enginesize</th>\n",
       "      <td>205.0</td>\n",
       "      <td>126.907317</td>\n",
       "      <td>41.642693</td>\n",
       "      <td>61.00</td>\n",
       "      <td>97.00</td>\n",
       "      <td>120.00</td>\n",
       "      <td>141.00</td>\n",
       "      <td>326.00</td>\n",
       "    </tr>\n",
       "    <tr>\n",
       "      <th>boreratio</th>\n",
       "      <td>205.0</td>\n",
       "      <td>3.329756</td>\n",
       "      <td>0.270844</td>\n",
       "      <td>2.54</td>\n",
       "      <td>3.15</td>\n",
       "      <td>3.31</td>\n",
       "      <td>3.58</td>\n",
       "      <td>3.94</td>\n",
       "    </tr>\n",
       "    <tr>\n",
       "      <th>stroke</th>\n",
       "      <td>205.0</td>\n",
       "      <td>3.255415</td>\n",
       "      <td>0.313597</td>\n",
       "      <td>2.07</td>\n",
       "      <td>3.11</td>\n",
       "      <td>3.29</td>\n",
       "      <td>3.41</td>\n",
       "      <td>4.17</td>\n",
       "    </tr>\n",
       "    <tr>\n",
       "      <th>compressionratio</th>\n",
       "      <td>205.0</td>\n",
       "      <td>10.142537</td>\n",
       "      <td>3.972040</td>\n",
       "      <td>7.00</td>\n",
       "      <td>8.60</td>\n",
       "      <td>9.00</td>\n",
       "      <td>9.40</td>\n",
       "      <td>23.00</td>\n",
       "    </tr>\n",
       "    <tr>\n",
       "      <th>horsepower</th>\n",
       "      <td>205.0</td>\n",
       "      <td>104.117073</td>\n",
       "      <td>39.544167</td>\n",
       "      <td>48.00</td>\n",
       "      <td>70.00</td>\n",
       "      <td>95.00</td>\n",
       "      <td>116.00</td>\n",
       "      <td>288.00</td>\n",
       "    </tr>\n",
       "    <tr>\n",
       "      <th>peakrpm</th>\n",
       "      <td>205.0</td>\n",
       "      <td>5125.121951</td>\n",
       "      <td>476.985643</td>\n",
       "      <td>4150.00</td>\n",
       "      <td>4800.00</td>\n",
       "      <td>5200.00</td>\n",
       "      <td>5500.00</td>\n",
       "      <td>6600.00</td>\n",
       "    </tr>\n",
       "    <tr>\n",
       "      <th>citympg</th>\n",
       "      <td>205.0</td>\n",
       "      <td>25.219512</td>\n",
       "      <td>6.542142</td>\n",
       "      <td>13.00</td>\n",
       "      <td>19.00</td>\n",
       "      <td>24.00</td>\n",
       "      <td>30.00</td>\n",
       "      <td>49.00</td>\n",
       "    </tr>\n",
       "    <tr>\n",
       "      <th>highwaympg</th>\n",
       "      <td>205.0</td>\n",
       "      <td>30.751220</td>\n",
       "      <td>6.886443</td>\n",
       "      <td>16.00</td>\n",
       "      <td>25.00</td>\n",
       "      <td>30.00</td>\n",
       "      <td>34.00</td>\n",
       "      <td>54.00</td>\n",
       "    </tr>\n",
       "    <tr>\n",
       "      <th>price</th>\n",
       "      <td>205.0</td>\n",
       "      <td>13276.710571</td>\n",
       "      <td>7988.852332</td>\n",
       "      <td>5118.00</td>\n",
       "      <td>7788.00</td>\n",
       "      <td>10295.00</td>\n",
       "      <td>16503.00</td>\n",
       "      <td>45400.00</td>\n",
       "    </tr>\n",
       "  </tbody>\n",
       "</table>\n",
       "</div>"
      ],
      "text/plain": [
       "                  count          mean          std      min      25%  \\\n",
       "symboling         205.0      0.834146     1.245307    -2.00     0.00   \n",
       "wheelbase         205.0     98.756585     6.021776    86.60    94.50   \n",
       "carlength         205.0    174.049268    12.337289   141.10   166.30   \n",
       "carwidth          205.0     65.907805     2.145204    60.30    64.10   \n",
       "carheight         205.0     53.724878     2.443522    47.80    52.00   \n",
       "curbweight        205.0   2555.565854   520.680204  1488.00  2145.00   \n",
       "enginesize        205.0    126.907317    41.642693    61.00    97.00   \n",
       "boreratio         205.0      3.329756     0.270844     2.54     3.15   \n",
       "stroke            205.0      3.255415     0.313597     2.07     3.11   \n",
       "compressionratio  205.0     10.142537     3.972040     7.00     8.60   \n",
       "horsepower        205.0    104.117073    39.544167    48.00    70.00   \n",
       "peakrpm           205.0   5125.121951   476.985643  4150.00  4800.00   \n",
       "citympg           205.0     25.219512     6.542142    13.00    19.00   \n",
       "highwaympg        205.0     30.751220     6.886443    16.00    25.00   \n",
       "price             205.0  13276.710571  7988.852332  5118.00  7788.00   \n",
       "\n",
       "                       50%       75%       max  \n",
       "symboling             1.00      2.00      3.00  \n",
       "wheelbase            97.00    102.40    120.90  \n",
       "carlength           173.20    183.10    208.10  \n",
       "carwidth             65.50     66.90     72.30  \n",
       "carheight            54.10     55.50     59.80  \n",
       "curbweight         2414.00   2935.00   4066.00  \n",
       "enginesize          120.00    141.00    326.00  \n",
       "boreratio             3.31      3.58      3.94  \n",
       "stroke                3.29      3.41      4.17  \n",
       "compressionratio      9.00      9.40     23.00  \n",
       "horsepower           95.00    116.00    288.00  \n",
       "peakrpm            5200.00   5500.00   6600.00  \n",
       "citympg              24.00     30.00     49.00  \n",
       "highwaympg           30.00     34.00     54.00  \n",
       "price             10295.00  16503.00  45400.00  "
      ]
     },
     "execution_count": 13,
     "metadata": {},
     "output_type": "execute_result"
    }
   ],
   "source": [
    "train.describe().T"
   ]
  },
  {
   "cell_type": "code",
   "execution_count": null,
   "metadata": {},
   "outputs": [],
   "source": [
    "train.get_dtype_counts()"
   ]
  },
  {
   "cell_type": "code",
   "execution_count": null,
   "metadata": {
    "scrolled": true
   },
   "outputs": [],
   "source": [
    "train.columns"
   ]
  },
  {
   "cell_type": "code",
   "execution_count": null,
   "metadata": {},
   "outputs": [],
   "source": [
    "train['fueltype'].value_counts()"
   ]
  },
  {
   "cell_type": "code",
   "execution_count": null,
   "metadata": {},
   "outputs": [],
   "source": [
    "train['aspiration'].value_counts()"
   ]
  },
  {
   "cell_type": "code",
   "execution_count": null,
   "metadata": {},
   "outputs": [],
   "source": [
    "train['doornumber'].value_counts()"
   ]
  },
  {
   "cell_type": "code",
   "execution_count": null,
   "metadata": {},
   "outputs": [],
   "source": [
    "train['carbody'].value_counts()"
   ]
  },
  {
   "cell_type": "code",
   "execution_count": null,
   "metadata": {},
   "outputs": [],
   "source": [
    "train['drivewheel'].value_counts()"
   ]
  },
  {
   "cell_type": "code",
   "execution_count": null,
   "metadata": {},
   "outputs": [],
   "source": [
    "train['enginelocation'].value_counts()"
   ]
  },
  {
   "cell_type": "code",
   "execution_count": null,
   "metadata": {},
   "outputs": [],
   "source": [
    "train['cylindernumber'].value_counts()"
   ]
  },
  {
   "cell_type": "code",
   "execution_count": null,
   "metadata": {
    "scrolled": true
   },
   "outputs": [],
   "source": [
    "train['fuelsystem'].value_counts()"
   ]
  },
  {
   "cell_type": "code",
   "execution_count": 14,
   "metadata": {},
   "outputs": [],
   "source": [
    "train['fuelsystem'] = train['fuelsystem'].replace({'mfi':'mpfi','spfi':'spdi'})"
   ]
  },
  {
   "cell_type": "code",
   "execution_count": null,
   "metadata": {},
   "outputs": [],
   "source": [
    "train['fuelsystem'].value_counts()"
   ]
  },
  {
   "cell_type": "code",
   "execution_count": null,
   "metadata": {},
   "outputs": [],
   "source": [
    "train.get_dtype_counts()"
   ]
  },
  {
   "cell_type": "code",
   "execution_count": null,
   "metadata": {
    "scrolled": false
   },
   "outputs": [],
   "source": [
    "train.brand_Name.value_counts()\n"
   ]
  },
  {
   "cell_type": "code",
   "execution_count": 15,
   "metadata": {},
   "outputs": [],
   "source": [
    "train['brand_Name'] = train.brand_Name.replace({'vw':'volkswagen','vokswagen':'volkswagen','maxda':'mazda',\n",
    "                                           'toyouta':'toyota','Nissan':'nissan','porcshce':'porsche'})"
   ]
  },
  {
   "cell_type": "code",
   "execution_count": null,
   "metadata": {},
   "outputs": [],
   "source": [
    "train.brand_Name.value_counts()"
   ]
  },
  {
   "cell_type": "code",
   "execution_count": null,
   "metadata": {},
   "outputs": [],
   "source": [
    "train.enginetype.value_counts()"
   ]
  },
  {
   "cell_type": "code",
   "execution_count": 16,
   "metadata": {},
   "outputs": [],
   "source": [
    "train['enginetype'] = train['enginetype'].replace({'dohcv':'dohc'})"
   ]
  },
  {
   "cell_type": "code",
   "execution_count": null,
   "metadata": {},
   "outputs": [],
   "source": [
    "train.enginetype.value_counts()"
   ]
  },
  {
   "cell_type": "code",
   "execution_count": null,
   "metadata": {},
   "outputs": [],
   "source": [
    "train.brand_Name.value_counts()"
   ]
  },
  {
   "cell_type": "code",
   "execution_count": null,
   "metadata": {
    "scrolled": true
   },
   "outputs": [],
   "source": [
    "train.get_dtype_counts()"
   ]
  },
  {
   "cell_type": "markdown",
   "metadata": {},
   "source": [
    "-                                                # Summary #\n",
    "\n",
    "1. identified data entry error in brand Variable- Resolved\n",
    "2. No Missing Data -- Good\n",
    "3. Check Outliers in the data - YTS\n",
    "\n",
    "                                            # Univarite Analysis"
   ]
  },
  {
   "cell_type": "code",
   "execution_count": 17,
   "metadata": {},
   "outputs": [],
   "source": [
    "Number_data = train.select_dtypes(include= ['number'])"
   ]
  },
  {
   "cell_type": "code",
   "execution_count": null,
   "metadata": {},
   "outputs": [],
   "source": [
    "Number_data.shape"
   ]
  },
  {
   "cell_type": "code",
   "execution_count": 18,
   "metadata": {},
   "outputs": [],
   "source": [
    "Category_data = train.select_dtypes(include=['object'])"
   ]
  },
  {
   "cell_type": "code",
   "execution_count": null,
   "metadata": {},
   "outputs": [],
   "source": [
    "Category_data.shape"
   ]
  },
  {
   "cell_type": "raw",
   "metadata": {},
   "source": [
    "# Univaite Analysis for number data (Possiablity of Analysis)\n",
    "\n",
    "1. Correlaction Analysis\n",
    "2. Distrubution of each variables using Histogram\n",
    "3. Outlier analysis for each Variable"
   ]
  },
  {
   "cell_type": "code",
   "execution_count": null,
   "metadata": {
    "scrolled": false
   },
   "outputs": [],
   "source": [
    "corr = Number_data.corr().round(3)\n",
    "corr\n"
   ]
  },
  {
   "cell_type": "code",
   "execution_count": null,
   "metadata": {
    "scrolled": false
   },
   "outputs": [],
   "source": [
    "plt.figure(figsize=(20,8))\n",
    "sns.heatmap(corr,annot=True,cmap='summer_r')\n",
    "\n",
    "### Summary\n",
    "# looks data is having multple Collenarity problem, \n"
   ]
  },
  {
   "cell_type": "code",
   "execution_count": null,
   "metadata": {},
   "outputs": [],
   "source": [
    "Number_data.columns"
   ]
  },
  {
   "cell_type": "code",
   "execution_count": null,
   "metadata": {},
   "outputs": [],
   "source": [
    "fig, ax_array = plt.subplots(5,3, linewidth=3,figsize=(10,15))\n",
    "(ax1,ax2,ax3),(ax4,ax5,ax6),(ax7,ax8,ax9),(ax10,ax11,ax12),(ax13,ax14,ax15)= ax_array\n",
    "\n",
    "sns.boxplot(y='symboling',data=Number_data,ax=ax1)\n",
    "sns.boxplot(y='wheelbase',data=Number_data,ax=ax2)\n",
    "sns.boxplot(y='carlength',data=Number_data,ax=ax3)\n",
    "sns.boxplot(y='carwidth',data=Number_data,ax=ax4)\n",
    "sns.boxplot(y='carheight',data=Number_data,ax=ax5)\n",
    "sns.boxplot(y='curbweight',data=Number_data,ax=ax6)\n",
    "sns.boxplot(y='enginesize',data=Number_data,ax=ax7)\n",
    "sns.boxplot(y='boreratio',data=Number_data,ax=ax8)\n",
    "sns.boxplot(y='stroke',data=Number_data,ax=ax9)\n",
    "sns.boxplot(y='compressionratio',data=Number_data,ax=ax10)\n",
    "sns.boxplot(y='horsepower',data=Number_data,ax=ax11)\n",
    "sns.boxplot(y='peakrpm',data=Number_data,ax=ax12)\n",
    "sns.boxplot(y='citympg',data=Number_data,ax=ax13)\n",
    "sns.boxplot(y='highwaympg',data=Number_data,ax=ax14)\n",
    "sns.boxplot(y='price',data=Number_data,ax=ax15)"
   ]
  },
  {
   "cell_type": "code",
   "execution_count": null,
   "metadata": {},
   "outputs": [],
   "source": [
    "Category_data.columns"
   ]
  },
  {
   "cell_type": "code",
   "execution_count": null,
   "metadata": {
    "scrolled": false
   },
   "outputs": [],
   "source": [
    "fig, ax_array = plt.subplots(3,3, linewidth=3,figsize=(15,15))\n",
    "(ax1,ax2,ax3),(ax4,ax5,ax6),(ax7,ax8,ax9)= ax_array\n",
    "\n",
    "sns.countplot('fueltype',data=Category_data,ax=ax1)\n",
    "sns.countplot('aspiration',data=Category_data,ax=ax2)\n",
    "sns.countplot('doornumber',data=Category_data,ax=ax3)\n",
    "sns.countplot('carbody',data=Category_data,ax=ax4,order=Category_data.carbody.value_counts().index)\n",
    "sns.countplot('drivewheel',data=Category_data,ax=ax5,order=Category_data.drivewheel.value_counts().index)\n",
    "sns.countplot('enginelocation',data=Category_data,ax=ax6)\n",
    "sns.countplot('enginetype',data=Category_data,ax=ax7,order=Category_data.enginetype.value_counts().index)\n",
    "sns.countplot('cylindernumber',data=Category_data,ax=ax8,order=Category_data.cylindernumber.value_counts().index)\n",
    "sns.countplot('fuelsystem',data=Category_data,ax=ax9,order=Category_data.fuelsystem.value_counts().index)"
   ]
  },
  {
   "cell_type": "code",
   "execution_count": null,
   "metadata": {},
   "outputs": [],
   "source": [
    "plt.figure(figsize=(15,5))\n",
    "sns.countplot('brand_Name',data=Category_data,order=Category_data.brand_Name.value_counts().index,palette=\"Blues_r\")\n",
    "plt.xticks(rotation=35)\n",
    "              "
   ]
  },
  {
   "cell_type": "markdown",
   "metadata": {},
   "source": [
    "###                                        ### Univarite Analysis Summary ####\n",
    "\n",
    "1. Indepent Variables (Following Variables) having the High Correlaction, Which leads Multicollinority problem \n",
    "                \n",
    "                Wheelbase,\n",
    "                Carlength,\n",
    "                Carwidth,\n",
    "                crubhight, \n",
    "                CarHight,\n",
    "                enginesize,\n",
    "                boreratio \n",
    "                \n",
    "\n",
    "2.Outlier Issues : (Univarite Analysis)\n",
    "\n",
    "        Wheelbase, \n",
    "        Carlength, \n",
    "        Carwidth,\n",
    "        enginesize,stoke,\n",
    "        compressionratio,\n",
    "        horsepower,\n",
    "        peakrpm,citympg,\n",
    "        highwaympg\n",
    "        \n",
    "3. as per distrubution Most of the cars brands in Toyota, least cars in mercury\n",
    "4. Most of the cars having 4 Cylenders, and Gas Vehicals....etc                         "
   ]
  },
  {
   "cell_type": "markdown",
   "metadata": {},
   "source": [
    "### Dependent Variable : 'Price'         ==========BiVarite Analysis=======\n",
    "\n",
    "\n",
    "1. For numbers data we have already done the correlaction Analysis. please see below Comments\n",
    "    \n",
    "   High positive Correlaction with Dependent variable\n",
    "    \n",
    "    Hoursepower\n",
    "    Boreratio\n",
    "    EngineSize\n",
    "    Curbweigth\n",
    "    Carwidth\n",
    "    Carlength\n",
    "    wheelbase\n",
    "   \n",
    "   below variables are high negitive Coorelaction\n",
    "   \n",
    "   Highwaympg\n",
    "   citympg\n",
    "   peakrpm\n",
    "   symbolling\n"
   ]
  },
  {
   "cell_type": "code",
   "execution_count": null,
   "metadata": {
    "scrolled": false
   },
   "outputs": [],
   "source": [
    "fig, ax_array = plt.subplots(5,3, linewidth=3,figsize=(20,20))\n",
    "(ax1,ax2,ax3),(ax4,ax5,ax6),(ax7,ax8,ax9),(ax10,ax11,ax12),(ax13,ax14,ax15)= ax_array\n",
    "\n",
    "sns.regplot(x='symboling',y='price',data=Number_data,ax=ax1,marker=\"+\")\n",
    "sns.regplot(x='wheelbase',y='price',data=Number_data,ax=ax2)\n",
    "sns.regplot(x='carlength',y='price',data=Number_data,ax=ax3)\n",
    "sns.regplot(x='carwidth',y='price',data=Number_data,ax=ax4)\n",
    "sns.regplot(x='carheight',y='price',data=Number_data,ax=ax5)\n",
    "sns.regplot(x='curbweight',y='price',data=Number_data,ax=ax6)\n",
    "sns.regplot(x='enginesize',y='price',data=Number_data,ax=ax7)\n",
    "sns.regplot(x='boreratio',y='price',data=Number_data,ax=ax8)\n",
    "sns.regplot(x='stroke',y='price',data=Number_data,ax=ax9)\n",
    "sns.regplot(x='compressionratio',y='price',data=Number_data,ax=ax10)\n",
    "sns.regplot(x='horsepower',y='price',data=Number_data,ax=ax11)\n",
    "sns.regplot(x='peakrpm',y='price',data=Number_data,ax=ax12)\n",
    "sns.regplot(x='citympg',y='price',data=Number_data,ax=ax13)\n",
    "sns.regplot(x='highwaympg',y='price',data=Number_data,ax=ax14)"
   ]
  },
  {
   "cell_type": "raw",
   "metadata": {},
   "source": [
    "Each Categorical variables Compare with Dependent Variable"
   ]
  },
  {
   "cell_type": "code",
   "execution_count": 19,
   "metadata": {},
   "outputs": [],
   "source": [
    "Category_data['price'] = train['price']"
   ]
  },
  {
   "cell_type": "code",
   "execution_count": null,
   "metadata": {
    "scrolled": true
   },
   "outputs": [],
   "source": [
    "Category_data.columns"
   ]
  },
  {
   "cell_type": "code",
   "execution_count": null,
   "metadata": {},
   "outputs": [],
   "source": [
    "fig, ax_array = plt.subplots(3,3, linewidth=3,figsize=(15,15))\n",
    "(ax1,ax2,ax3),(ax4,ax5,ax6),(ax7,ax8,ax9)= ax_array\n",
    "\n",
    "sns.boxplot(y='fueltype',x='price',data=Category_data,ax=ax1)\n",
    "sns.boxplot(x='aspiration',y='price',data=Category_data,ax=ax2)\n",
    "sns.boxplot(x='doornumber',y='price',data=Category_data,ax=ax3)\n",
    "sns.boxplot(x='carbody',y='price',data=Category_data,ax=ax4,order=Category_data.carbody.value_counts().index)\n",
    "sns.boxplot(x='drivewheel',y='price',data=Category_data,ax=ax5,order=Category_data.drivewheel.value_counts().index)\n",
    "sns.boxplot(x='enginelocation',y='price',data=Category_data,ax=ax6)\n",
    "sns.boxplot(x='enginetype',y='price',data=Category_data,ax=ax7,order=Category_data.enginetype.value_counts().index)\n",
    "sns.boxplot(x='cylindernumber',y='price',data=Category_data,ax=ax8,order=Category_data.cylindernumber.value_counts().index)\n",
    "sns.boxplot(x='fuelsystem',y='price',data=Category_data,ax=ax9,order=Category_data.fuelsystem.value_counts().index)"
   ]
  },
  {
   "cell_type": "code",
   "execution_count": null,
   "metadata": {
    "scrolled": false
   },
   "outputs": [],
   "source": [
    "plt.figure(figsize=(20,7))\n",
    "sns.boxplot(x='brand_Name',y='price',data=Category_data)\n",
    "plt.xticks(rotation=35)"
   ]
  },
  {
   "cell_type": "markdown",
   "metadata": {},
   "source": [
    "Dependent Variable : 'Price'         ==========BiVarite Analysis=======\n",
    "\n",
    "\n",
    "1. As per the Boxplot Categorical data is havig sig with Price Variable\n",
    "2. Outliers also available after relating the price variable\n",
    "  "
   ]
  },
  {
   "cell_type": "code",
   "execution_count": 20,
   "metadata": {},
   "outputs": [],
   "source": [
    "Category_data = Category_data.drop(columns='price')"
   ]
  },
  {
   "cell_type": "code",
   "execution_count": null,
   "metadata": {},
   "outputs": [],
   "source": [
    "Category_data.columns"
   ]
  },
  {
   "cell_type": "markdown",
   "metadata": {},
   "source": [
    "### Creating the Dummy Variables on Categorical Data\n",
    "\n",
    "    1. If Coloums having 2 Factors, will assign vlaues as 1 and 0\n",
    "    2. If Coloums having more than 2 factors will assign dummy variables with (n-1)\n",
    "            example: Colum having 5 factors, we create the 4 differnt variables and if all Variables is 0, it means that row is fifth factors"
   ]
  },
  {
   "cell_type": "code",
   "execution_count": null,
   "metadata": {},
   "outputs": [],
   "source": [
    "Category_data.head()"
   ]
  },
  {
   "cell_type": "code",
   "execution_count": 21,
   "metadata": {},
   "outputs": [],
   "source": [
    "Category_data['fueltype'] = Category_data['fueltype'].map({'gas':1,'diesel':0})\n",
    "Category_data['aspiration'] = Category_data['aspiration'].map({'std':1,'turbo':0})\n",
    "Category_data['doornumber'] = Category_data['doornumber'].map({'four':1,'two':0})\n",
    "Category_data['enginelocation'] = Category_data['enginelocation'].map({'front':1,'rear':0})"
   ]
  },
  {
   "cell_type": "code",
   "execution_count": null,
   "metadata": {},
   "outputs": [],
   "source": [
    "Category_data.head()"
   ]
  },
  {
   "cell_type": "code",
   "execution_count": 22,
   "metadata": {},
   "outputs": [],
   "source": [
    "carbody = Category_data['carbody']\n",
    "drivewheel = Category_data['drivewheel']\n",
    "enginetype = Category_data['enginetype']\n",
    "cylindernumber = Category_data['cylindernumber']\n",
    "fuelsystem = Category_data['fuelsystem']\n",
    "brand_Name = Category_data['brand_Name']"
   ]
  },
  {
   "cell_type": "code",
   "execution_count": 23,
   "metadata": {},
   "outputs": [],
   "source": [
    "drop = ['carbody','drivewheel','enginetype','cylindernumber','fuelsystem','brand_Name']"
   ]
  },
  {
   "cell_type": "code",
   "execution_count": 24,
   "metadata": {},
   "outputs": [],
   "source": [
    "carbody = pd.get_dummies(carbody,prefix='carbody_',drop_first=True)\n",
    "drivewheel = pd.get_dummies(drivewheel,prefix='drivewheel_',drop_first=True)\n",
    "enginetype = pd.get_dummies(enginetype,prefix='enginetype_',drop_first=True)\n",
    "cylindernumber = pd.get_dummies(cylindernumber,prefix='cylindernumber_',drop_first=True)\n",
    "fuelsystem = pd.get_dummies(fuelsystem,prefix='fuelsystem_',drop_first=True)\n",
    "brand_Name = pd.get_dummies(brand_Name,prefix='brand_Name_',drop_first=True)"
   ]
  },
  {
   "cell_type": "code",
   "execution_count": null,
   "metadata": {},
   "outputs": [],
   "source": [
    "print(type(carbody))"
   ]
  },
  {
   "cell_type": "code",
   "execution_count": 25,
   "metadata": {},
   "outputs": [],
   "source": [
    "Category_data_final = pd.concat([Category_data,carbody,drivewheel,enginetype,cylindernumber,fuelsystem,brand_Name],axis=1)"
   ]
  },
  {
   "cell_type": "code",
   "execution_count": 26,
   "metadata": {},
   "outputs": [],
   "source": [
    "Category_data_final = Category_data_final.drop(columns=drop)"
   ]
  },
  {
   "cell_type": "code",
   "execution_count": 27,
   "metadata": {},
   "outputs": [
    {
     "data": {
      "text/html": [
       "<div>\n",
       "<style scoped>\n",
       "    .dataframe tbody tr th:only-of-type {\n",
       "        vertical-align: middle;\n",
       "    }\n",
       "\n",
       "    .dataframe tbody tr th {\n",
       "        vertical-align: top;\n",
       "    }\n",
       "\n",
       "    .dataframe thead th {\n",
       "        text-align: right;\n",
       "    }\n",
       "</style>\n",
       "<table border=\"1\" class=\"dataframe\">\n",
       "  <thead>\n",
       "    <tr style=\"text-align: right;\">\n",
       "      <th></th>\n",
       "      <th>fueltype</th>\n",
       "      <th>aspiration</th>\n",
       "      <th>doornumber</th>\n",
       "      <th>enginelocation</th>\n",
       "      <th>carbody__hardtop</th>\n",
       "      <th>carbody__hatchback</th>\n",
       "      <th>carbody__sedan</th>\n",
       "      <th>carbody__wagon</th>\n",
       "      <th>drivewheel__fwd</th>\n",
       "      <th>drivewheel__rwd</th>\n",
       "      <th>...</th>\n",
       "      <th>brand_Name__nissan</th>\n",
       "      <th>brand_Name__peugeot</th>\n",
       "      <th>brand_Name__plymouth</th>\n",
       "      <th>brand_Name__porsche</th>\n",
       "      <th>brand_Name__renault</th>\n",
       "      <th>brand_Name__saab</th>\n",
       "      <th>brand_Name__subaru</th>\n",
       "      <th>brand_Name__toyota</th>\n",
       "      <th>brand_Name__volkswagen</th>\n",
       "      <th>brand_Name__volvo</th>\n",
       "    </tr>\n",
       "  </thead>\n",
       "  <tbody>\n",
       "    <tr>\n",
       "      <th>0</th>\n",
       "      <td>1</td>\n",
       "      <td>1</td>\n",
       "      <td>0</td>\n",
       "      <td>1</td>\n",
       "      <td>0</td>\n",
       "      <td>0</td>\n",
       "      <td>0</td>\n",
       "      <td>0</td>\n",
       "      <td>0</td>\n",
       "      <td>1</td>\n",
       "      <td>...</td>\n",
       "      <td>0</td>\n",
       "      <td>0</td>\n",
       "      <td>0</td>\n",
       "      <td>0</td>\n",
       "      <td>0</td>\n",
       "      <td>0</td>\n",
       "      <td>0</td>\n",
       "      <td>0</td>\n",
       "      <td>0</td>\n",
       "      <td>0</td>\n",
       "    </tr>\n",
       "    <tr>\n",
       "      <th>1</th>\n",
       "      <td>1</td>\n",
       "      <td>1</td>\n",
       "      <td>0</td>\n",
       "      <td>1</td>\n",
       "      <td>0</td>\n",
       "      <td>0</td>\n",
       "      <td>0</td>\n",
       "      <td>0</td>\n",
       "      <td>0</td>\n",
       "      <td>1</td>\n",
       "      <td>...</td>\n",
       "      <td>0</td>\n",
       "      <td>0</td>\n",
       "      <td>0</td>\n",
       "      <td>0</td>\n",
       "      <td>0</td>\n",
       "      <td>0</td>\n",
       "      <td>0</td>\n",
       "      <td>0</td>\n",
       "      <td>0</td>\n",
       "      <td>0</td>\n",
       "    </tr>\n",
       "    <tr>\n",
       "      <th>2</th>\n",
       "      <td>1</td>\n",
       "      <td>1</td>\n",
       "      <td>0</td>\n",
       "      <td>1</td>\n",
       "      <td>0</td>\n",
       "      <td>1</td>\n",
       "      <td>0</td>\n",
       "      <td>0</td>\n",
       "      <td>0</td>\n",
       "      <td>1</td>\n",
       "      <td>...</td>\n",
       "      <td>0</td>\n",
       "      <td>0</td>\n",
       "      <td>0</td>\n",
       "      <td>0</td>\n",
       "      <td>0</td>\n",
       "      <td>0</td>\n",
       "      <td>0</td>\n",
       "      <td>0</td>\n",
       "      <td>0</td>\n",
       "      <td>0</td>\n",
       "    </tr>\n",
       "    <tr>\n",
       "      <th>3</th>\n",
       "      <td>1</td>\n",
       "      <td>1</td>\n",
       "      <td>1</td>\n",
       "      <td>1</td>\n",
       "      <td>0</td>\n",
       "      <td>0</td>\n",
       "      <td>1</td>\n",
       "      <td>0</td>\n",
       "      <td>1</td>\n",
       "      <td>0</td>\n",
       "      <td>...</td>\n",
       "      <td>0</td>\n",
       "      <td>0</td>\n",
       "      <td>0</td>\n",
       "      <td>0</td>\n",
       "      <td>0</td>\n",
       "      <td>0</td>\n",
       "      <td>0</td>\n",
       "      <td>0</td>\n",
       "      <td>0</td>\n",
       "      <td>0</td>\n",
       "    </tr>\n",
       "    <tr>\n",
       "      <th>4</th>\n",
       "      <td>1</td>\n",
       "      <td>1</td>\n",
       "      <td>1</td>\n",
       "      <td>1</td>\n",
       "      <td>0</td>\n",
       "      <td>0</td>\n",
       "      <td>1</td>\n",
       "      <td>0</td>\n",
       "      <td>0</td>\n",
       "      <td>0</td>\n",
       "      <td>...</td>\n",
       "      <td>0</td>\n",
       "      <td>0</td>\n",
       "      <td>0</td>\n",
       "      <td>0</td>\n",
       "      <td>0</td>\n",
       "      <td>0</td>\n",
       "      <td>0</td>\n",
       "      <td>0</td>\n",
       "      <td>0</td>\n",
       "      <td>0</td>\n",
       "    </tr>\n",
       "  </tbody>\n",
       "</table>\n",
       "<p>5 rows × 47 columns</p>\n",
       "</div>"
      ],
      "text/plain": [
       "   fueltype  aspiration  doornumber  enginelocation  carbody__hardtop  \\\n",
       "0         1           1           0               1                 0   \n",
       "1         1           1           0               1                 0   \n",
       "2         1           1           0               1                 0   \n",
       "3         1           1           1               1                 0   \n",
       "4         1           1           1               1                 0   \n",
       "\n",
       "   carbody__hatchback  carbody__sedan  carbody__wagon  drivewheel__fwd  \\\n",
       "0                   0               0               0                0   \n",
       "1                   0               0               0                0   \n",
       "2                   1               0               0                0   \n",
       "3                   0               1               0                1   \n",
       "4                   0               1               0                0   \n",
       "\n",
       "   drivewheel__rwd        ...          brand_Name__nissan  \\\n",
       "0                1        ...                           0   \n",
       "1                1        ...                           0   \n",
       "2                1        ...                           0   \n",
       "3                0        ...                           0   \n",
       "4                0        ...                           0   \n",
       "\n",
       "   brand_Name__peugeot  brand_Name__plymouth  brand_Name__porsche  \\\n",
       "0                    0                     0                    0   \n",
       "1                    0                     0                    0   \n",
       "2                    0                     0                    0   \n",
       "3                    0                     0                    0   \n",
       "4                    0                     0                    0   \n",
       "\n",
       "   brand_Name__renault  brand_Name__saab  brand_Name__subaru  \\\n",
       "0                    0                 0                   0   \n",
       "1                    0                 0                   0   \n",
       "2                    0                 0                   0   \n",
       "3                    0                 0                   0   \n",
       "4                    0                 0                   0   \n",
       "\n",
       "   brand_Name__toyota  brand_Name__volkswagen  brand_Name__volvo  \n",
       "0                   0                       0                  0  \n",
       "1                   0                       0                  0  \n",
       "2                   0                       0                  0  \n",
       "3                   0                       0                  0  \n",
       "4                   0                       0                  0  \n",
       "\n",
       "[5 rows x 47 columns]"
      ]
     },
     "execution_count": 27,
     "metadata": {},
     "output_type": "execute_result"
    }
   ],
   "source": [
    "Category_data_final.head()"
   ]
  },
  {
   "cell_type": "markdown",
   "metadata": {},
   "source": [
    "#### Handling the Outliers Values on number data"
   ]
  },
  {
   "cell_type": "code",
   "execution_count": 28,
   "metadata": {},
   "outputs": [],
   "source": [
    "def Outlier(x):\n",
    "    first_quantile = np.quantile(x,0.25)\n",
    "    third_quantile = np.quantile(x,0.75)\n",
    "    quartiles = np.quantile(a=x,q=[0.05,0.1,0.90,0.95,0.96,0.97,0.98,0.99,1])\n",
    "    IQR = (third_quantile - first_quantile)\n",
    "    Upper_fence = third_quantile+(IQR*1.5)\n",
    "    lower_fence = first_quantile-(IQR*1.5)\n",
    "    \n",
    "    return({'1st Quartile':first_quantile,\n",
    "           '3rd_quantile':third_quantile,\n",
    "            'IQR':IQR.round(3),\n",
    "           'Upper_fence':Upper_fence,\n",
    "           'lower_fence':lower_fence,\n",
    "           'quartiles':quartiles})\n",
    "    \n",
    "   "
   ]
  },
  {
   "cell_type": "code",
   "execution_count": 29,
   "metadata": {},
   "outputs": [
    {
     "data": {
      "text/plain": [
       "{'1st Quartile': 25.0,\n",
       " '3rd_quantile': 34.0,\n",
       " 'IQR': 9.0,\n",
       " 'Upper_fence': 47.5,\n",
       " 'lower_fence': 11.5,\n",
       " 'quartiles': array([22.  , 23.  , 38.  , 42.8 , 43.  , 45.64, 46.92, 49.88, 54.  ])}"
      ]
     },
     "execution_count": 29,
     "metadata": {},
     "output_type": "execute_result"
    }
   ],
   "source": [
    "Outlier(Number_data.highwaympg)"
   ]
  },
  {
   "cell_type": "code",
   "execution_count": null,
   "metadata": {
    "scrolled": false
   },
   "outputs": [],
   "source": [
    "Number_data.highwaympg.describe()"
   ]
  },
  {
   "cell_type": "raw",
   "metadata": {},
   "source": [
    "Few Variables are replaced with IQR range Forumala along with Box Plots\n"
   ]
  },
  {
   "cell_type": "code",
   "execution_count": 30,
   "metadata": {},
   "outputs": [],
   "source": [
    "Number_data['carlength'] = np.where(Number_data['carlength'] < 157.3, 157.3, Number_data['carlength'])\n",
    "Number_data['carwidth'] = np.where(Number_data['carwidth'] > 71, 71, Number_data['carwidth'])\n",
    "Number_data['enginesize'] = np.where(Number_data['enginesize'] > 201.2, 201.2, Number_data['enginesize'])\n",
    "Number_data['stroke'] = np.where(Number_data['stroke'] > 3.86, 3.86, Number_data['stroke'])\n",
    "Number_data['stroke'] = np.where(Number_data['stroke'] < 2.8, 2.8, Number_data['stroke'])\n",
    "Number_data['compressionratio'] = np.where(Number_data['compressionratio'] > 10, 10, Number_data['compressionratio'])\n",
    "Number_data['compressionratio'] = np.where(Number_data['compressionratio'] < 7.8, 7.8, Number_data['compressionratio'])\n",
    "Number_data['wheelbase'] = np.where(Number_data['wheelbase'] > 114.2,114.2, Number_data['wheelbase'])\n",
    "Number_data['horsepower'] = np.where(Number_data['horsepower'] > 184,184, Number_data['horsepower'])\n",
    "Number_data['peakrpm'] = np.where(Number_data['peakrpm'] > 6000,6000, Number_data['peakrpm'])\n",
    "Number_data['citympg'] = np.where(Number_data['citympg'] > 44.72,44.72, Number_data['citympg'])\n",
    "Number_data['highwaympg'] = np.where(Number_data['highwaympg'] > 46.92,46.92, Number_data['highwaympg'])"
   ]
  },
  {
   "cell_type": "code",
   "execution_count": null,
   "metadata": {},
   "outputs": [],
   "source": [
    "fig, ax_array = plt.subplots(5,3, linewidth=3,figsize=(10,15))\n",
    "(ax1,ax2,ax3),(ax4,ax5,ax6),(ax7,ax8,ax9),(ax10,ax11,ax12),(ax13,ax14,ax15)= ax_array\n",
    "\n",
    "sns.boxplot(y='symboling',data=Number_data,ax=ax1)\n",
    "sns.boxplot(y='wheelbase',data=Number_data,ax=ax2)\n",
    "sns.boxplot(y='carlength',data=Number_data,ax=ax3)\n",
    "sns.boxplot(y='carwidth',data=Number_data,ax=ax4)\n",
    "sns.boxplot(y='carheight',data=Number_data,ax=ax5)\n",
    "sns.boxplot(y='curbweight',data=Number_data,ax=ax6)\n",
    "sns.boxplot(y='enginesize',data=Number_data,ax=ax7)\n",
    "sns.boxplot(y='boreratio',data=Number_data,ax=ax8)\n",
    "sns.boxplot(y='stroke',data=Number_data,ax=ax9)\n",
    "sns.boxplot(y='compressionratio',data=Number_data,ax=ax10)\n",
    "sns.boxplot(y='horsepower',data=Number_data,ax=ax11)\n",
    "sns.boxplot(y='peakrpm',data=Number_data,ax=ax12)\n",
    "sns.boxplot(y='citympg',data=Number_data,ax=ax13)\n",
    "sns.boxplot(y='highwaympg',data=Number_data,ax=ax14)"
   ]
  },
  {
   "cell_type": "code",
   "execution_count": null,
   "metadata": {
    "scrolled": false
   },
   "outputs": [],
   "source": [
    "corr = Number_data.corr()\n",
    "plt.figure(figsize=(20,8))\n",
    "sns.heatmap(corr,annot=True,cmap='summer_r',annot_kws={'size':12})\n"
   ]
  },
  {
   "cell_type": "code",
   "execution_count": null,
   "metadata": {},
   "outputs": [],
   "source": [
    "# Merging the data (Numberic and Categorical Data)"
   ]
  },
  {
   "cell_type": "code",
   "execution_count": 31,
   "metadata": {},
   "outputs": [],
   "source": [
    "Final_data = pd.concat([Number_data,Category_data_final],axis=1)"
   ]
  },
  {
   "cell_type": "code",
   "execution_count": null,
   "metadata": {
    "scrolled": false
   },
   "outputs": [],
   "source": [
    "Final_data.head()"
   ]
  },
  {
   "cell_type": "code",
   "execution_count": 32,
   "metadata": {},
   "outputs": [],
   "source": [
    "# Required Data normality\n",
    "def normalize (x): \n",
    "    return ( (x-np.mean(x))/ (max(x) - min(x)))"
   ]
  },
  {
   "cell_type": "code",
   "execution_count": 33,
   "metadata": {},
   "outputs": [],
   "source": [
    "Final_data = Final_data.apply(normalize)"
   ]
  },
  {
   "cell_type": "code",
   "execution_count": null,
   "metadata": {},
   "outputs": [],
   "source": [
    "Final_data.head()"
   ]
  },
  {
   "cell_type": "code",
   "execution_count": null,
   "metadata": {},
   "outputs": [],
   "source": [
    "Final_data.columns"
   ]
  },
  {
   "cell_type": "raw",
   "metadata": {},
   "source": [
    "Split the Data into Training (70%) and Test (30%)\n",
    "    1. Define the Variables in X,y\n",
    "    2. help(train_test_split)\n"
   ]
  },
  {
   "cell_type": "code",
   "execution_count": 42,
   "metadata": {},
   "outputs": [],
   "source": [
    "X = Final_data.drop(columns='price')"
   ]
  },
  {
   "cell_type": "code",
   "execution_count": 43,
   "metadata": {},
   "outputs": [],
   "source": [
    "y = Final_data['price']"
   ]
  },
  {
   "cell_type": "code",
   "execution_count": 44,
   "metadata": {},
   "outputs": [],
   "source": [
    "X_train, X_test, y_train, y_test = train_test_split(X, y, test_size=0.30, random_state=42)"
   ]
  },
  {
   "cell_type": "code",
   "execution_count": 45,
   "metadata": {
    "scrolled": true
   },
   "outputs": [
    {
     "name": "stdout",
     "output_type": "stream",
     "text": [
      "(143, 61)\n",
      "(62, 61)\n",
      "(143,)\n",
      "(62,)\n"
     ]
    }
   ],
   "source": [
    "print(X_train.shape)\n",
    "print(X_test.shape)\n",
    "print(y_train.shape)\n",
    "print(y_test.shape)"
   ]
  },
  {
   "cell_type": "raw",
   "metadata": {},
   "source": [
    "# Build the linear Regression in Normal way\n",
    "# Treat VIF using RFE\n",
    "  - Recursive Feature Elimination (RFE) as its title suggests recursively removes features,\n",
    "    builds a model using the remaining attributes and calculates model accuracy. \n",
    "    RFE is able to work out the combination of attributes that contribute to the prediction on the target variable"
   ]
  },
  {
   "cell_type": "code",
   "execution_count": 47,
   "metadata": {},
   "outputs": [],
   "source": [
    "# Build the model in linear regression with 20 Features\n",
    "\n",
    "lm = LinearRegression()\n",
    "lm_RFE = RFE(lm,n_features_to_select=20,step=1)\n",
    "lm_RFE = lm_RFE.fit(X_train,y_train)"
   ]
  },
  {
   "cell_type": "code",
   "execution_count": 80,
   "metadata": {},
   "outputs": [
    {
     "name": "stdout",
     "output_type": "stream",
     "text": [
      "[False False False  True False False False False False False  True False\n",
      " False False False False False  True False False False False False False\n",
      " False False False False False False False False False False False False\n",
      " False False False False False  True  True False False False False  True\n",
      " False False False False False False False False False False False False\n",
      " False]\n"
     ]
    }
   ],
   "source": [
    "# Check the intercet and Slope Values\n",
    "print(lm_RFE.support_)\n"
   ]
  },
  {
   "cell_type": "code",
   "execution_count": 49,
   "metadata": {},
   "outputs": [
    {
     "data": {
      "text/plain": [
       "Index(['wheelbase', 'carwidth', 'curbweight', 'enginesize', 'horsepower',\n",
       "       'enginelocation', 'carbody__hatchback', 'carbody__sedan',\n",
       "       'carbody__wagon', 'enginetype__ohcf', 'cylindernumber__five',\n",
       "       'cylindernumber__four', 'cylindernumber__six', 'cylindernumber__two',\n",
       "       'brand_Name__bmw', 'brand_Name__buick', 'brand_Name__jaguar',\n",
       "       'brand_Name__peugeot', 'brand_Name__porsche', 'brand_Name__subaru'],\n",
       "      dtype='object')"
      ]
     },
     "execution_count": 49,
     "metadata": {},
     "output_type": "execute_result"
    }
   ],
   "source": [
    "col = X_train.columns[lm_RFE.support_]\n",
    "col"
   ]
  },
  {
   "cell_type": "code",
   "execution_count": 50,
   "metadata": {},
   "outputs": [],
   "source": [
    "# Creating X_train dataframe with RFE selected variables\n",
    "X_train_RFE = X_train[col]\n",
    "X_train_RFE = sm.add_constant(X_train_RFE)\n",
    "lm_model = sm.OLS(y_train,X_train_RFE).fit()"
   ]
  },
  {
   "cell_type": "code",
   "execution_count": 51,
   "metadata": {
    "scrolled": false
   },
   "outputs": [
    {
     "name": "stdout",
     "output_type": "stream",
     "text": [
      "                            OLS Regression Results                            \n",
      "==============================================================================\n",
      "Dep. Variable:                  price   R-squared:                       0.963\n",
      "Model:                            OLS   Adj. R-squared:                  0.957\n",
      "Method:                 Least Squares   F-statistic:                     169.0\n",
      "Date:                Fri, 08 Feb 2019   Prob (F-statistic):           1.34e-78\n",
      "Time:                        06:23:34   Log-Likelihood:                 267.68\n",
      "No. Observations:                 143   AIC:                            -495.4\n",
      "Df Residuals:                     123   BIC:                            -436.1\n",
      "Df Model:                          19                                         \n",
      "Covariance Type:            nonrobust                                         \n",
      "========================================================================================\n",
      "                           coef    std err          t      P>|t|      [0.025      0.975]\n",
      "----------------------------------------------------------------------------------------\n",
      "const                   -0.0019      0.003     -0.563      0.575      -0.009       0.005\n",
      "wheelbase                0.0622      0.040      1.538      0.127      -0.018       0.142\n",
      "carwidth                 0.2365      0.048      4.896      0.000       0.141       0.332\n",
      "curbweight               0.4006      0.068      5.895      0.000       0.266       0.535\n",
      "enginesize              -0.2167      0.054     -3.982      0.000      -0.324      -0.109\n",
      "horsepower               0.1560      0.030      5.270      0.000       0.097       0.215\n",
      "enginelocation          -0.1659      0.035     -4.770      0.000      -0.235      -0.097\n",
      "carbody__hatchback      -0.1068      0.019     -5.551      0.000      -0.145      -0.069\n",
      "carbody__sedan          -0.1018      0.020     -5.191      0.000      -0.141      -0.063\n",
      "carbody__wagon          -0.1442      0.023     -6.333      0.000      -0.189      -0.099\n",
      "enginetype__ohcf         0.0754      0.018      4.192      0.000       0.040       0.111\n",
      "cylindernumber__five    -0.0839      0.034     -2.457      0.015      -0.152      -0.016\n",
      "cylindernumber__four    -0.1206      0.035     -3.479      0.001      -0.189      -0.052\n",
      "cylindernumber__six     -0.0736      0.034     -2.176      0.031      -0.141      -0.007\n",
      "cylindernumber__two     -0.1104      0.050     -2.217      0.028      -0.209      -0.012\n",
      "brand_Name__bmw          0.2034      0.020     10.319      0.000       0.164       0.242\n",
      "brand_Name__buick        0.1997      0.036      5.542      0.000       0.128       0.271\n",
      "brand_Name__jaguar       0.1831      0.031      5.813      0.000       0.121       0.245\n",
      "brand_Name__peugeot     -0.0628      0.020     -3.103      0.002      -0.103      -0.023\n",
      "brand_Name__porsche      0.1658      0.035      4.756      0.000       0.097       0.235\n",
      "brand_Name__subaru      -0.0906      0.021     -4.363      0.000      -0.132      -0.049\n",
      "==============================================================================\n",
      "Omnibus:                        7.286   Durbin-Watson:                   2.058\n",
      "Prob(Omnibus):                  0.026   Jarque-Bera (JB):                9.671\n",
      "Skew:                           0.282   Prob(JB):                      0.00794\n",
      "Kurtosis:                       4.142   Cond. No.                     2.66e+16\n",
      "==============================================================================\n",
      "\n",
      "Warnings:\n",
      "[1] Standard Errors assume that the covariance matrix of the errors is correctly specified.\n",
      "[2] The smallest eigenvalue is 2.02e-31. This might indicate that there are\n",
      "strong multicollinearity problems or that the design matrix is singular.\n"
     ]
    }
   ],
   "source": [
    "# Check the Summary of model\n",
    "\n",
    "print(lm_model.summary())\n",
    "\n",
    "# After building the 20 features, below variables are not having the sig\n",
    "# wheelbase    \n",
    "# cylindernumber__six\n",
    "# cylindernumber__two\n",
    "# cylindernumber__five"
   ]
  },
  {
   "cell_type": "code",
   "execution_count": 52,
   "metadata": {},
   "outputs": [],
   "source": [
    "# VIF for calculating vif value\n",
    "def VIF(input_data, dependent_col):\n",
    "    vif_df = pd.DataFrame( columns = ['Var', 'Vif'])\n",
    "    x_vars=input_data.drop([dependent_col], axis=1)\n",
    "    xvar_names=x_vars.columns\n",
    "    for i in range(0,xvar_names.shape[0]):\n",
    "        y=x_vars[xvar_names[i]] \n",
    "        x=x_vars[xvar_names.drop(xvar_names[i])]\n",
    "        rsq=sm.OLS(y,x).fit().rsquared  \n",
    "        vif=round(1/(1-rsq),2)\n",
    "        vif_df.loc[i] = [xvar_names[i], vif]\n",
    "    return vif_df.sort_values(by = 'Vif', axis=0, ascending=False, inplace=False)"
   ]
  },
  {
   "cell_type": "code",
   "execution_count": 53,
   "metadata": {
    "scrolled": true
   },
   "outputs": [
    {
     "data": {
      "text/plain": [
       "Index(['aspiration', 'boreratio', 'brand_Name__audi', 'brand_Name__chevrolet',\n",
       "       'brand_Name__dodge', 'brand_Name__honda', 'brand_Name__isuzu',\n",
       "       'brand_Name__mazda', 'brand_Name__mercury', 'brand_Name__mitsubishi',\n",
       "       'brand_Name__nissan', 'brand_Name__plymouth', 'brand_Name__renault',\n",
       "       'brand_Name__saab', 'brand_Name__toyota', 'brand_Name__volkswagen',\n",
       "       'brand_Name__volvo', 'carbody__hardtop', 'carheight', 'carlength',\n",
       "       'citympg', 'compressionratio', 'cylindernumber__three',\n",
       "       'cylindernumber__twelve', 'doornumber', 'drivewheel__fwd',\n",
       "       'drivewheel__rwd', 'enginetype__l', 'enginetype__ohc',\n",
       "       'enginetype__ohcv', 'enginetype__rotor', 'fuelsystem__2bbl',\n",
       "       'fuelsystem__4bbl', 'fuelsystem__idi', 'fuelsystem__mpfi',\n",
       "       'fuelsystem__spdi', 'fueltype', 'highwaympg', 'peakrpm', 'price',\n",
       "       'stroke', 'symboling'],\n",
       "      dtype='object')"
      ]
     },
     "execution_count": 53,
     "metadata": {},
     "output_type": "execute_result"
    }
   ],
   "source": [
    "Final_data.columns.difference(X_train_RFE.columns)"
   ]
  },
  {
   "cell_type": "code",
   "execution_count": 54,
   "metadata": {},
   "outputs": [],
   "source": [
    "drop = ['aspiration', 'boreratio', 'brand_Name__audi', 'brand_Name__chevrolet',\n",
    "       'brand_Name__dodge', 'brand_Name__honda', 'brand_Name__isuzu',\n",
    "       'brand_Name__mazda', 'brand_Name__mercury', 'brand_Name__mitsubishi',\n",
    "       'brand_Name__nissan', 'brand_Name__plymouth', 'brand_Name__renault',\n",
    "       'brand_Name__saab', 'brand_Name__toyota', 'brand_Name__volkswagen',\n",
    "       'brand_Name__volvo', 'carbody__hardtop', 'carheight', 'carlength',\n",
    "       'citympg', 'compressionratio', 'cylindernumber__three',\n",
    "       'cylindernumber__twelve', 'doornumber', 'drivewheel__fwd',\n",
    "       'drivewheel__rwd', 'enginetype__l', 'enginetype__ohc',\n",
    "       'enginetype__ohcv', 'enginetype__rotor', 'fuelsystem__2bbl',\n",
    "       'fuelsystem__4bbl', 'fuelsystem__idi', 'fuelsystem__mpfi',\n",
    "       'fuelsystem__spdi', 'fueltype', 'highwaympg', 'peakrpm', 'stroke',\n",
    "       'symboling']"
   ]
  },
  {
   "cell_type": "code",
   "execution_count": 55,
   "metadata": {},
   "outputs": [
    {
     "name": "stdout",
     "output_type": "stream",
     "text": [
      "VIFthroshold: 27.027027027027003\n"
     ]
    },
    {
     "data": {
      "text/html": [
       "<div>\n",
       "<style scoped>\n",
       "    .dataframe tbody tr th:only-of-type {\n",
       "        vertical-align: middle;\n",
       "    }\n",
       "\n",
       "    .dataframe tbody tr th {\n",
       "        vertical-align: top;\n",
       "    }\n",
       "\n",
       "    .dataframe thead th {\n",
       "        text-align: right;\n",
       "    }\n",
       "</style>\n",
       "<table border=\"1\" class=\"dataframe\">\n",
       "  <thead>\n",
       "    <tr style=\"text-align: right;\">\n",
       "      <th></th>\n",
       "      <th>Var</th>\n",
       "      <th>Vif</th>\n",
       "    </tr>\n",
       "  </thead>\n",
       "  <tbody>\n",
       "    <tr>\n",
       "      <th>19</th>\n",
       "      <td>brand_Name__subaru</td>\n",
       "      <td>inf</td>\n",
       "    </tr>\n",
       "    <tr>\n",
       "      <th>9</th>\n",
       "      <td>enginetype__ohcf</td>\n",
       "      <td>inf</td>\n",
       "    </tr>\n",
       "    <tr>\n",
       "      <th>5</th>\n",
       "      <td>enginelocation</td>\n",
       "      <td>inf</td>\n",
       "    </tr>\n",
       "    <tr>\n",
       "      <th>2</th>\n",
       "      <td>curbweight</td>\n",
       "      <td>18.000000</td>\n",
       "    </tr>\n",
       "    <tr>\n",
       "      <th>3</th>\n",
       "      <td>enginesize</td>\n",
       "      <td>14.160000</td>\n",
       "    </tr>\n",
       "    <tr>\n",
       "      <th>11</th>\n",
       "      <td>cylindernumber__four</td>\n",
       "      <td>10.670000</td>\n",
       "    </tr>\n",
       "    <tr>\n",
       "      <th>1</th>\n",
       "      <td>carwidth</td>\n",
       "      <td>7.900000</td>\n",
       "    </tr>\n",
       "    <tr>\n",
       "      <th>12</th>\n",
       "      <td>cylindernumber__six</td>\n",
       "      <td>7.680000</td>\n",
       "    </tr>\n",
       "    <tr>\n",
       "      <th>7</th>\n",
       "      <td>carbody__sedan</td>\n",
       "      <td>6.920000</td>\n",
       "    </tr>\n",
       "    <tr>\n",
       "      <th>0</th>\n",
       "      <td>wheelbase</td>\n",
       "      <td>6.070000</td>\n",
       "    </tr>\n",
       "    <tr>\n",
       "      <th>6</th>\n",
       "      <td>carbody__hatchback</td>\n",
       "      <td>6.050000</td>\n",
       "    </tr>\n",
       "    <tr>\n",
       "      <th>4</th>\n",
       "      <td>horsepower</td>\n",
       "      <td>6.030000</td>\n",
       "    </tr>\n",
       "    <tr>\n",
       "      <th>8</th>\n",
       "      <td>carbody__wagon</td>\n",
       "      <td>4.040000</td>\n",
       "    </tr>\n",
       "    <tr>\n",
       "      <th>18</th>\n",
       "      <td>brand_Name__porsche</td>\n",
       "      <td>3.300000</td>\n",
       "    </tr>\n",
       "    <tr>\n",
       "      <th>10</th>\n",
       "      <td>cylindernumber__five</td>\n",
       "      <td>3.160000</td>\n",
       "    </tr>\n",
       "    <tr>\n",
       "      <th>15</th>\n",
       "      <td>brand_Name__buick</td>\n",
       "      <td>2.870000</td>\n",
       "    </tr>\n",
       "    <tr>\n",
       "      <th>13</th>\n",
       "      <td>cylindernumber__two</td>\n",
       "      <td>2.730000</td>\n",
       "    </tr>\n",
       "    <tr>\n",
       "      <th>17</th>\n",
       "      <td>brand_Name__peugeot</td>\n",
       "      <td>2.030000</td>\n",
       "    </tr>\n",
       "    <tr>\n",
       "      <th>16</th>\n",
       "      <td>brand_Name__jaguar</td>\n",
       "      <td>1.510000</td>\n",
       "    </tr>\n",
       "    <tr>\n",
       "      <th>14</th>\n",
       "      <td>brand_Name__bmw</td>\n",
       "      <td>1.410000</td>\n",
       "    </tr>\n",
       "  </tbody>\n",
       "</table>\n",
       "</div>"
      ],
      "text/plain": [
       "                     Var        Vif\n",
       "19    brand_Name__subaru        inf\n",
       "9       enginetype__ohcf        inf\n",
       "5         enginelocation        inf\n",
       "2             curbweight  18.000000\n",
       "3             enginesize  14.160000\n",
       "11  cylindernumber__four  10.670000\n",
       "1               carwidth   7.900000\n",
       "12   cylindernumber__six   7.680000\n",
       "7         carbody__sedan   6.920000\n",
       "0              wheelbase   6.070000\n",
       "6     carbody__hatchback   6.050000\n",
       "4             horsepower   6.030000\n",
       "8         carbody__wagon   4.040000\n",
       "18   brand_Name__porsche   3.300000\n",
       "10  cylindernumber__five   3.160000\n",
       "15     brand_Name__buick   2.870000\n",
       "13   cylindernumber__two   2.730000\n",
       "17   brand_Name__peugeot   2.030000\n",
       "16    brand_Name__jaguar   1.510000\n",
       "14       brand_Name__bmw   1.410000"
      ]
     },
     "execution_count": 55,
     "metadata": {},
     "output_type": "execute_result"
    }
   ],
   "source": [
    "print('VIFthroshold:',1/(1-0.963))\n",
    "VIF(input_data=Final_data.drop(columns=drop),dependent_col='price')\n",
    "\n",
    "# Still VIF Having some Proble"
   ]
  },
  {
   "cell_type": "code",
   "execution_count": 56,
   "metadata": {},
   "outputs": [],
   "source": [
    "# Build the model in linear regression with 15 Features\n",
    "lm = LinearRegression()\n",
    "lm_RFE = RFE(lm,n_features_to_select=15,step=1)\n",
    "lm_RFE = lm_RFE.fit(X_train,y_train)"
   ]
  },
  {
   "cell_type": "code",
   "execution_count": 57,
   "metadata": {},
   "outputs": [],
   "source": [
    "col = X_train.columns[lm_RFE.support_]"
   ]
  },
  {
   "cell_type": "code",
   "execution_count": 58,
   "metadata": {},
   "outputs": [
    {
     "name": "stdout",
     "output_type": "stream",
     "text": [
      "                            OLS Regression Results                            \n",
      "==============================================================================\n",
      "Dep. Variable:                  price   R-squared:                       0.959\n",
      "Model:                            OLS   Adj. R-squared:                  0.954\n",
      "Method:                 Least Squares   F-statistic:                     212.1\n",
      "Date:                Fri, 08 Feb 2019   Prob (F-statistic):           2.83e-81\n",
      "Time:                        06:26:06   Log-Likelihood:                 259.54\n",
      "No. Observations:                 143   AIC:                            -489.1\n",
      "Df Residuals:                     128   BIC:                            -444.6\n",
      "Df Model:                          14                                         \n",
      "Covariance Type:            nonrobust                                         \n",
      "========================================================================================\n",
      "                           coef    std err          t      P>|t|      [0.025      0.975]\n",
      "----------------------------------------------------------------------------------------\n",
      "const                   -0.0012      0.004     -0.327      0.745      -0.008       0.006\n",
      "carwidth                 0.2653      0.038      7.014      0.000       0.190       0.340\n",
      "curbweight               0.3108      0.057      5.478      0.000       0.199       0.423\n",
      "enginesize              -0.1621      0.042     -3.899      0.000      -0.244      -0.080\n",
      "horsepower               0.1826      0.028      6.638      0.000       0.128       0.237\n",
      "enginelocation          -0.1256      0.033     -3.858      0.000      -0.190      -0.061\n",
      "carbody__hatchback      -0.1075      0.019     -5.665      0.000      -0.145      -0.070\n",
      "carbody__sedan          -0.0963      0.019     -5.163      0.000      -0.133      -0.059\n",
      "carbody__wagon          -0.1307      0.022     -6.079      0.000      -0.173      -0.088\n",
      "enginetype__ohcf         0.0551      0.017      3.218      0.002       0.021       0.089\n",
      "cylindernumber__four    -0.0430      0.013     -3.248      0.001      -0.069      -0.017\n",
      "brand_Name__bmw          0.2114      0.020     10.803      0.000       0.173       0.250\n",
      "brand_Name__buick        0.2743      0.027     10.213      0.000       0.221       0.327\n",
      "brand_Name__jaguar       0.2335      0.029      7.960      0.000       0.175       0.292\n",
      "brand_Name__porsche      0.1838      0.032      5.661      0.000       0.120       0.248\n",
      "brand_Name__subaru      -0.0705      0.020     -3.544      0.001      -0.110      -0.031\n",
      "==============================================================================\n",
      "Omnibus:                       12.099   Durbin-Watson:                   2.130\n",
      "Prob(Omnibus):                  0.002   Jarque-Bera (JB):               22.720\n",
      "Skew:                           0.346   Prob(JB):                     1.17e-05\n",
      "Kurtosis:                       4.826   Cond. No.                     4.97e+16\n",
      "==============================================================================\n",
      "\n",
      "Warnings:\n",
      "[1] Standard Errors assume that the covariance matrix of the errors is correctly specified.\n",
      "[2] The smallest eigenvalue is 5.81e-32. This might indicate that there are\n",
      "strong multicollinearity problems or that the design matrix is singular.\n"
     ]
    }
   ],
   "source": [
    "# Creating X_train dataframe with RFE selected variables\n",
    "X_train_RFE = X_train[col]\n",
    "X_train_RFE = sm.add_constant(X_train_RFE)\n",
    "lm_model1 = sm.OLS(y_train,X_train_RFE).fit()\n",
    "print(lm_model1.summary())"
   ]
  },
  {
   "cell_type": "code",
   "execution_count": 59,
   "metadata": {},
   "outputs": [
    {
     "name": "stdout",
     "output_type": "stream",
     "text": [
      "VIFthroshold: 24.390243902439003\n"
     ]
    },
    {
     "data": {
      "text/html": [
       "<div>\n",
       "<style scoped>\n",
       "    .dataframe tbody tr th:only-of-type {\n",
       "        vertical-align: middle;\n",
       "    }\n",
       "\n",
       "    .dataframe tbody tr th {\n",
       "        vertical-align: top;\n",
       "    }\n",
       "\n",
       "    .dataframe thead th {\n",
       "        text-align: right;\n",
       "    }\n",
       "</style>\n",
       "<table border=\"1\" class=\"dataframe\">\n",
       "  <thead>\n",
       "    <tr style=\"text-align: right;\">\n",
       "      <th></th>\n",
       "      <th>Var</th>\n",
       "      <th>Vif</th>\n",
       "    </tr>\n",
       "  </thead>\n",
       "  <tbody>\n",
       "    <tr>\n",
       "      <th>4</th>\n",
       "      <td>enginelocation</td>\n",
       "      <td>inf</td>\n",
       "    </tr>\n",
       "    <tr>\n",
       "      <th>8</th>\n",
       "      <td>enginetype__ohcf</td>\n",
       "      <td>inf</td>\n",
       "    </tr>\n",
       "    <tr>\n",
       "      <th>14</th>\n",
       "      <td>brand_Name__subaru</td>\n",
       "      <td>inf</td>\n",
       "    </tr>\n",
       "    <tr>\n",
       "      <th>1</th>\n",
       "      <td>curbweight</td>\n",
       "      <td>11.570000</td>\n",
       "    </tr>\n",
       "    <tr>\n",
       "      <th>2</th>\n",
       "      <td>enginesize</td>\n",
       "      <td>7.100000</td>\n",
       "    </tr>\n",
       "    <tr>\n",
       "      <th>6</th>\n",
       "      <td>carbody__sedan</td>\n",
       "      <td>6.160000</td>\n",
       "    </tr>\n",
       "    <tr>\n",
       "      <th>5</th>\n",
       "      <td>carbody__hatchback</td>\n",
       "      <td>5.770000</td>\n",
       "    </tr>\n",
       "    <tr>\n",
       "      <th>0</th>\n",
       "      <td>carwidth</td>\n",
       "      <td>5.360000</td>\n",
       "    </tr>\n",
       "    <tr>\n",
       "      <th>3</th>\n",
       "      <td>horsepower</td>\n",
       "      <td>4.760000</td>\n",
       "    </tr>\n",
       "    <tr>\n",
       "      <th>7</th>\n",
       "      <td>carbody__wagon</td>\n",
       "      <td>3.550000</td>\n",
       "    </tr>\n",
       "    <tr>\n",
       "      <th>13</th>\n",
       "      <td>brand_Name__porsche</td>\n",
       "      <td>2.800000</td>\n",
       "    </tr>\n",
       "    <tr>\n",
       "      <th>9</th>\n",
       "      <td>cylindernumber__four</td>\n",
       "      <td>2.110000</td>\n",
       "    </tr>\n",
       "    <tr>\n",
       "      <th>11</th>\n",
       "      <td>brand_Name__buick</td>\n",
       "      <td>1.720000</td>\n",
       "    </tr>\n",
       "    <tr>\n",
       "      <th>10</th>\n",
       "      <td>brand_Name__bmw</td>\n",
       "      <td>1.320000</td>\n",
       "    </tr>\n",
       "    <tr>\n",
       "      <th>12</th>\n",
       "      <td>brand_Name__jaguar</td>\n",
       "      <td>1.310000</td>\n",
       "    </tr>\n",
       "  </tbody>\n",
       "</table>\n",
       "</div>"
      ],
      "text/plain": [
       "                     Var        Vif\n",
       "4         enginelocation        inf\n",
       "8       enginetype__ohcf        inf\n",
       "14    brand_Name__subaru        inf\n",
       "1             curbweight  11.570000\n",
       "2             enginesize   7.100000\n",
       "6         carbody__sedan   6.160000\n",
       "5     carbody__hatchback   5.770000\n",
       "0               carwidth   5.360000\n",
       "3             horsepower   4.760000\n",
       "7         carbody__wagon   3.550000\n",
       "13   brand_Name__porsche   2.800000\n",
       "9   cylindernumber__four   2.110000\n",
       "11     brand_Name__buick   1.720000\n",
       "10       brand_Name__bmw   1.320000\n",
       "12    brand_Name__jaguar   1.310000"
      ]
     },
     "execution_count": 59,
     "metadata": {},
     "output_type": "execute_result"
    }
   ],
   "source": [
    "# Check the VIF Problems in the Data\n",
    "remove = X_train.columns.difference(X_train_RFE.columns)\n",
    "print('VIFthroshold:',1/(1-0.959))\n",
    "VIF(input_data=Final_data.drop(columns=remove),dependent_col='price') ### Still Coupal of Variables having inf Values"
   ]
  },
  {
   "cell_type": "code",
   "execution_count": 60,
   "metadata": {},
   "outputs": [
    {
     "name": "stdout",
     "output_type": "stream",
     "text": [
      "                            OLS Regression Results                            \n",
      "==============================================================================\n",
      "Dep. Variable:                  price   R-squared:                       0.955\n",
      "Model:                            OLS   Adj. R-squared:                  0.951\n",
      "Method:                 Least Squares   F-statistic:                     229.7\n",
      "Date:                Fri, 08 Feb 2019   Prob (F-statistic):           2.93e-81\n",
      "Time:                        06:26:41   Log-Likelihood:                 253.41\n",
      "No. Observations:                 143   AIC:                            -480.8\n",
      "Df Residuals:                     130   BIC:                            -442.3\n",
      "Df Model:                          12                                         \n",
      "Covariance Type:            nonrobust                                         \n",
      "=======================================================================================\n",
      "                          coef    std err          t      P>|t|      [0.025      0.975]\n",
      "---------------------------------------------------------------------------------------\n",
      "const                  -0.0019      0.004     -0.512      0.609      -0.009       0.005\n",
      "carwidth                0.2794      0.039      7.177      0.000       0.202       0.356\n",
      "curbweight              0.2950      0.058      5.066      0.000       0.180       0.410\n",
      "enginesize             -0.1320      0.042     -3.152      0.002      -0.215      -0.049\n",
      "horsepower              0.2035      0.028      7.345      0.000       0.149       0.258\n",
      "enginelocation         -0.2078      0.049     -4.236      0.000      -0.305      -0.111\n",
      "carbody__hatchback     -0.0991      0.019     -5.096      0.000      -0.138      -0.061\n",
      "carbody__sedan         -0.0889      0.019     -4.643      0.000      -0.127      -0.051\n",
      "carbody__wagon         -0.1241      0.022     -5.665      0.000      -0.167      -0.081\n",
      "brand_Name__bmw         0.2252      0.020     11.380      0.000       0.186       0.264\n",
      "brand_Name__buick       0.2914      0.027     10.728      0.000       0.238       0.345\n",
      "brand_Name__jaguar      0.2452      0.030      8.161      0.000       0.186       0.305\n",
      "brand_Name__porsche     0.1753      0.034      5.228      0.000       0.109       0.242\n",
      "==============================================================================\n",
      "Omnibus:                        8.067   Durbin-Watson:                   2.201\n",
      "Prob(Omnibus):                  0.018   Jarque-Bera (JB):               13.071\n",
      "Skew:                           0.222   Prob(JB):                      0.00145\n",
      "Kurtosis:                       4.413   Cond. No.                         19.0\n",
      "==============================================================================\n",
      "\n",
      "Warnings:\n",
      "[1] Standard Errors assume that the covariance matrix of the errors is correctly specified.\n"
     ]
    }
   ],
   "source": [
    "# Build the model in linear regression with 12 Features\n",
    "lm = LinearRegression()\n",
    "lm_RFE = RFE(lm,n_features_to_select=12,step=1)\n",
    "lm_RFE = lm_RFE.fit(X_train,y_train)\n",
    "\n",
    "# Find out the 13 Features which RFE is selected\n",
    "col = X_train.columns[lm_RFE.support_]\n",
    "\n",
    "# Creating X_train dataframe with RFE selected variables\n",
    "X_train_RFE = X_train[col]\n",
    "X_train_RFE = sm.add_constant(X_train_RFE)\n",
    "lm_model2 = sm.OLS(y_train,X_train_RFE).fit()\n",
    "print(lm_model2.summary())\n",
    "\n",
    "# Looks all the variables having the good Sig\n",
    "# R_Squared and Adjusted R_squared is Good\n",
    "# All Variables P Values is Good"
   ]
  },
  {
   "cell_type": "code",
   "execution_count": 61,
   "metadata": {},
   "outputs": [
    {
     "name": "stdout",
     "output_type": "stream",
     "text": [
      "VIFthroshold: 22.222222222222204\n"
     ]
    },
    {
     "data": {
      "text/html": [
       "<div>\n",
       "<style scoped>\n",
       "    .dataframe tbody tr th:only-of-type {\n",
       "        vertical-align: middle;\n",
       "    }\n",
       "\n",
       "    .dataframe tbody tr th {\n",
       "        vertical-align: top;\n",
       "    }\n",
       "\n",
       "    .dataframe thead th {\n",
       "        text-align: right;\n",
       "    }\n",
       "</style>\n",
       "<table border=\"1\" class=\"dataframe\">\n",
       "  <thead>\n",
       "    <tr style=\"text-align: right;\">\n",
       "      <th></th>\n",
       "      <th>Var</th>\n",
       "      <th>Vif</th>\n",
       "    </tr>\n",
       "  </thead>\n",
       "  <tbody>\n",
       "    <tr>\n",
       "      <th>1</th>\n",
       "      <td>curbweight</td>\n",
       "      <td>11.46</td>\n",
       "    </tr>\n",
       "    <tr>\n",
       "      <th>2</th>\n",
       "      <td>enginesize</td>\n",
       "      <td>7.03</td>\n",
       "    </tr>\n",
       "    <tr>\n",
       "      <th>6</th>\n",
       "      <td>carbody__sedan</td>\n",
       "      <td>6.07</td>\n",
       "    </tr>\n",
       "    <tr>\n",
       "      <th>5</th>\n",
       "      <td>carbody__hatchback</td>\n",
       "      <td>5.65</td>\n",
       "    </tr>\n",
       "    <tr>\n",
       "      <th>0</th>\n",
       "      <td>carwidth</td>\n",
       "      <td>5.32</td>\n",
       "    </tr>\n",
       "    <tr>\n",
       "      <th>3</th>\n",
       "      <td>horsepower</td>\n",
       "      <td>4.42</td>\n",
       "    </tr>\n",
       "    <tr>\n",
       "      <th>7</th>\n",
       "      <td>carbody__wagon</td>\n",
       "      <td>3.44</td>\n",
       "    </tr>\n",
       "    <tr>\n",
       "      <th>4</th>\n",
       "      <td>enginelocation</td>\n",
       "      <td>3.07</td>\n",
       "    </tr>\n",
       "    <tr>\n",
       "      <th>11</th>\n",
       "      <td>brand_Name__porsche</td>\n",
       "      <td>2.80</td>\n",
       "    </tr>\n",
       "    <tr>\n",
       "      <th>9</th>\n",
       "      <td>brand_Name__buick</td>\n",
       "      <td>1.58</td>\n",
       "    </tr>\n",
       "    <tr>\n",
       "      <th>10</th>\n",
       "      <td>brand_Name__jaguar</td>\n",
       "      <td>1.29</td>\n",
       "    </tr>\n",
       "    <tr>\n",
       "      <th>8</th>\n",
       "      <td>brand_Name__bmw</td>\n",
       "      <td>1.26</td>\n",
       "    </tr>\n",
       "  </tbody>\n",
       "</table>\n",
       "</div>"
      ],
      "text/plain": [
       "                    Var    Vif\n",
       "1            curbweight  11.46\n",
       "2            enginesize   7.03\n",
       "6        carbody__sedan   6.07\n",
       "5    carbody__hatchback   5.65\n",
       "0              carwidth   5.32\n",
       "3            horsepower   4.42\n",
       "7        carbody__wagon   3.44\n",
       "4        enginelocation   3.07\n",
       "11  brand_Name__porsche   2.80\n",
       "9     brand_Name__buick   1.58\n",
       "10   brand_Name__jaguar   1.29\n",
       "8       brand_Name__bmw   1.26"
      ]
     },
     "execution_count": 61,
     "metadata": {},
     "output_type": "execute_result"
    }
   ],
   "source": [
    "# Check the VIF Problems in the Data\n",
    "remove = X_train.columns.difference(X_train_RFE.columns)\n",
    "print('VIFthroshold:',1/(1-0.955))\n",
    "VIF(input_data=Final_data.drop(columns=remove),dependent_col='price') ### Looks VIF Values is Good excepet Crubweight"
   ]
  },
  {
   "cell_type": "code",
   "execution_count": 62,
   "metadata": {
    "scrolled": false
   },
   "outputs": [
    {
     "data": {
      "text/plain": [
       "<matplotlib.axes._subplots.AxesSubplot at 0x1a3897799e8>"
      ]
     },
     "execution_count": 62,
     "metadata": {},
     "output_type": "execute_result"
    },
    {
     "data": {
      "image/png": "[encoded data removed]",
      "text/plain": [
       "<Figure size 1080x576 with 2 Axes>"
      ]
     },
     "metadata": {
      "needs_background": "light"
     },
     "output_type": "display_data"
    }
   ],
   "source": [
    "# Check the Corrleaction Matrix\n",
    "plt.figure(figsize=(15,8))\n",
    "sns.heatmap(Final_data.drop(columns=remove).corr(),annot=True)"
   ]
  },
  {
   "cell_type": "markdown",
   "metadata": {},
   "source": [
    "# Predicting Using 12 Features\n",
    "\n",
    "- Remove the non model variables in test data\n",
    "- add the Consistant value in testdata\n",
    "- predict the model in testdata\n",
    "- Check the Test, and Predicted Values using scatter plot\n",
    "- Check the Errors Distrubution\n",
    "- Check the R_Squre , MSE and RMSE Values"
   ]
  },
  {
   "cell_type": "code",
   "execution_count": 68,
   "metadata": {},
   "outputs": [],
   "source": [
    "# - Remove the non model variables in test data\n",
    "\n",
    "X_test_12 = X_test.drop(columns=remove)"
   ]
  },
  {
   "cell_type": "code",
   "execution_count": 70,
   "metadata": {},
   "outputs": [],
   "source": [
    "X_test_12 = sm.add_constant(X_test_12,has_constant='add')"
   ]
  },
  {
   "cell_type": "code",
   "execution_count": 71,
   "metadata": {
    "scrolled": false
   },
   "outputs": [
    {
     "name": "stdout",
     "output_type": "stream",
     "text": [
      "(62, 13)\n",
      "(143, 13)\n"
     ]
    }
   ],
   "source": [
    "print(X_test_12.shape)\n",
    "print(X_train_RFE.shape)"
   ]
  },
  {
   "cell_type": "code",
   "execution_count": 72,
   "metadata": {},
   "outputs": [],
   "source": [
    "# predict the model in testdata\n",
    "predictions = lm_model2.predict(X_test_12)"
   ]
  },
  {
   "cell_type": "code",
   "execution_count": 73,
   "metadata": {},
   "outputs": [
    {
     "data": {
      "text/plain": [
       "<matplotlib.axes._subplots.AxesSubplot at 0x1a3893bb208>"
      ]
     },
     "execution_count": 73,
     "metadata": {},
     "output_type": "execute_result"
    },
    {
     "data": {
      "image/png": "[encoded data removed]",
      "text/plain": [
       "<Figure size 1080x360 with 2 Axes>"
      ]
     },
     "metadata": {
      "needs_background": "light"
     },
     "output_type": "display_data"
    }
   ],
   "source": [
    "fig,(ax1,ax2) = plt.subplots(1,2,figsize=(15,5))\n",
    "\n",
    "sns.regplot(y_test,predictions,marker='x',ax=ax1)  # Plot looks good\n",
    "sns.distplot((y_test-predictions),bins=50,color='Blue',ax=ax2) ### Errors are in normality"
   ]
  },
  {
   "cell_type": "code",
   "execution_count": 74,
   "metadata": {},
   "outputs": [
    {
     "name": "stdout",
     "output_type": "stream",
     "text": [
      "{'mean_absolute_error': 0.05511516150192274}\n",
      "{'mean_squared_error': 0.0060812193459038304}\n",
      "{'Root mean_squared_error': 0.07798217325712224}\n",
      "{' r2_score': 0.857577897607487}\n"
     ]
    }
   ],
   "source": [
    "# Check the Evaluation matrix\n",
    "\n",
    "MAE = metrics.mean_absolute_error(y_test,predictions)\n",
    "print({'mean_absolute_error' : MAE})\n",
    "\n",
    "MSE = metrics.mean_squared_error(y_test,predictions)\n",
    "print({'mean_squared_error' : MSE})\n",
    "\n",
    "RMSE = np.sqrt(metrics.mean_squared_error(y_test,predictions))\n",
    "print({'Root mean_squared_error' : RMSE})\n",
    "\n",
    "r2_score = metrics.r2_score(y_test,predictions)\n",
    "print({' r2_score' : r2_score})\n"
   ]
  },
  {
   "cell_type": "code",
   "execution_count": null,
   "metadata": {},
   "outputs": [],
   "source": [
    "index = np.arange(1,63,1)\n",
    "# Check the actual Values and predicted Values\n",
    "\n",
    "fig = plt.figure(figsize=(15,5))\n",
    "plt.plot(index,y_test, color=\"blue\", linewidth=2.5, linestyle=\"-\")     #Plotting Actual\n",
    "plt.plot(index,predictions, color=\"red\",  linewidth=2.5, linestyle=\"-\")  #Plotting predicted\n",
    "fig.suptitle('Actual and Predicted', fontsize=15)              # Plot heading \n",
    "plt.xlabel('Index', fontsize=12)                               # X-label\n",
    "plt.ylabel('Price', fontsize=12) "
   ]
  },
  {
   "cell_type": "code",
   "execution_count": null,
   "metadata": {},
   "outputs": [],
   "source": [
    "# Build the model in linear regression with 9 Features\n",
    "lm = LinearRegression()\n",
    "lm_RFE = RFE(lm,n_features_to_select=9,step=1)\n",
    "lm_RFE = lm_RFE.fit(X_train,y_train)\n",
    "\n",
    "# Find out the 9 Features which RFE is selected\n",
    "col = X_train.columns[lm_RFE.support_]\n",
    "\n",
    "# Creating X_train dataframe with RFE selected variables\n",
    "X_train_RFE = X_train[col]\n",
    "X_train_RFE = sm.add_constant(X_train_RFE)\n",
    "lm_model3 = sm.OLS(y_train,X_train_RFE).fit()\n",
    "print(lm_model3.summary())\n",
    "\n",
    "# Looks all the variables having the good Sig\n",
    "# R_Squared and Adjusted R_squared is Good\n",
    "# All Variables P Values is Good"
   ]
  },
  {
   "cell_type": "code",
   "execution_count": null,
   "metadata": {
    "scrolled": true
   },
   "outputs": [],
   "source": [
    "# Check the VIF Problems in the Data\n",
    "remove = X_train.columns.difference(X_train_RFE.columns)\n",
    "print('VIFthroshold:',1/(1-0.943))\n",
    "VIF(input_data=Final_data.drop(columns=remove),dependent_col='price') ### Looks VIF Values is Good excepet Crubweight"
   ]
  },
  {
   "cell_type": "code",
   "execution_count": null,
   "metadata": {
    "scrolled": false
   },
   "outputs": [],
   "source": [
    "# Check the Corrleaction Matrix\n",
    "plt.figure(figsize=(15,8))\n",
    "sns.heatmap(Final_data.drop(columns=remove).corr(),annot=True)"
   ]
  },
  {
   "cell_type": "markdown",
   "metadata": {},
   "source": [
    "# Predicting Using 9 Features\n",
    "Remove the non model variables in test data\n",
    "add the Consistant value in testdata\n",
    "predict the model in testdata\n",
    "Check the Test, and Predicted Values using scatter plot\n",
    "Check the Errors Distrubution\n",
    "Check the R_Squre , MSE and RMSE Values"
   ]
  },
  {
   "cell_type": "code",
   "execution_count": null,
   "metadata": {},
   "outputs": [],
   "source": [
    "X_test_9 = X_test.drop(columns=remove)"
   ]
  },
  {
   "cell_type": "code",
   "execution_count": null,
   "metadata": {},
   "outputs": [],
   "source": [
    "X_test_9 = sm.add_constant(X_test_9,has_constant='add')"
   ]
  },
  {
   "cell_type": "code",
   "execution_count": null,
   "metadata": {},
   "outputs": [],
   "source": [
    "# predict the model in testdata\n",
    "predictions = lm_model3.predict(X_test_9)"
   ]
  },
  {
   "cell_type": "code",
   "execution_count": null,
   "metadata": {},
   "outputs": [],
   "source": [
    "fig,(ax1,ax2) = plt.subplots(1,2,figsize=(15,5))\n",
    "\n",
    "sns.regplot(y_test,predictions,marker='x',ax=ax1)  # Plot looks good\n",
    "sns.distplot((y_test-predictions),bins=50,color='Blue',ax=ax2) ### Errors are in normality"
   ]
  },
  {
   "cell_type": "code",
   "execution_count": null,
   "metadata": {},
   "outputs": [],
   "source": [
    "# Check the Evaluation matrix\n",
    "\n",
    "MAE = metrics.mean_absolute_error(y_test,predictions)\n",
    "print({'mean_absolute_error' : MAE})\n",
    "\n",
    "MSE = metrics.mean_squared_error(y_test,predictions)\n",
    "print({'mean_squared_error' : MSE})\n",
    "\n",
    "RMSE = np.sqrt(metrics.mean_squared_error(y_test,predictions))\n",
    "print({'Root mean_squared_error' : RMSE})\n",
    "\n",
    "r2_score = metrics.r2_score(y_test,predictions)\n",
    "print({' r2_score' : r2_score})"
   ]
  },
  {
   "cell_type": "code",
   "execution_count": null,
   "metadata": {
    "scrolled": false
   },
   "outputs": [],
   "source": [
    "index = np.arange(1,63,1)\n",
    "# Check the actual Values and predicted Values\n",
    "\n",
    "fig = plt.figure(figsize=(15,5))\n",
    "plt.plot(index,y_test, color=\"blue\", linewidth=2.5, linestyle=\"-\")     #Plotting Actual\n",
    "plt.plot(index,predictions, color=\"red\",  linewidth=2.5, linestyle=\"-\")  #Plotting predicted\n",
    "fig.suptitle('Actual and Predicted', fontsize=15)              # Plot heading \n",
    "plt.xlabel('Index', fontsize=12)                               # X-label\n",
    "plt.ylabel('Price', fontsize=12) "
   ]
  },
  {
   "cell_type": "code",
   "execution_count": null,
   "metadata": {},
   "outputs": [],
   "source": [
    "# Build the model in linear regression with 7 Features\n",
    "lm = LinearRegression()\n",
    "lm_RFE = RFE(lm,n_features_to_select=7,step=1)\n",
    "lm_RFE = lm_RFE.fit(X_train,y_train)\n",
    "\n",
    "# Find out the 7 Features which RFE is selected\n",
    "col = X_train.columns[lm_RFE.support_]\n",
    "\n",
    "# Creating X_train dataframe with RFE selected variables\n",
    "X_train_RFE = X_train[col]\n",
    "X_train_RFE = sm.add_constant(X_train_RFE)\n",
    "lm_model4 = sm.OLS(y_train,X_train_RFE).fit()\n",
    "print(lm_model4.summary())\n",
    "\n",
    "# Looks all the variables having the good Sig\n",
    "# R_Squared and Adjusted R_squared is Good\n",
    "# All Variables P Values is Good"
   ]
  },
  {
   "cell_type": "code",
   "execution_count": null,
   "metadata": {},
   "outputs": [],
   "source": [
    "# Check the VIF Problems in the Data\n",
    "remove = X_train.columns.difference(X_train_RFE.columns)\n",
    "print('VIFthroshold:',1/(1-0.934))\n",
    "VIF(input_data=Final_data.drop(columns=remove),dependent_col='price') ### Looks VIF Values is Good excepet Crubweight"
   ]
  },
  {
   "cell_type": "code",
   "execution_count": null,
   "metadata": {},
   "outputs": [],
   "source": [
    "# Check the Corrleaction Matrix\n",
    "plt.figure(figsize=(15,8))\n",
    "sns.heatmap(Final_data.drop(columns=remove).corr(),annot=True)\n"
   ]
  },
  {
   "cell_type": "markdown",
   "metadata": {},
   "source": [
    "# Predicting Using 7 Features\n",
    "Remove the non model variables in test data\n",
    "add the Consistant value in testdata\n",
    "predict the model in testdata\n",
    "Check the Test, and Predicted Values using scatter plot\n",
    "Check the Errors Distrubution\n",
    "Check the R_Squre , MSE and RMSE Values"
   ]
  },
  {
   "cell_type": "code",
   "execution_count": null,
   "metadata": {},
   "outputs": [],
   "source": [
    "\n",
    "X_test_7 = X_test.drop(columns=remove)"
   ]
  },
  {
   "cell_type": "code",
   "execution_count": null,
   "metadata": {},
   "outputs": [],
   "source": [
    "X_test_7 = sm.add_constant(X_test_7,has_constant='add')"
   ]
  },
  {
   "cell_type": "code",
   "execution_count": null,
   "metadata": {},
   "outputs": [],
   "source": [
    "# predict the model in testdata\n",
    "predictions = lm_model4.predict(X_test_7)"
   ]
  },
  {
   "cell_type": "code",
   "execution_count": null,
   "metadata": {},
   "outputs": [],
   "source": [
    "fig,(ax1,ax2) = plt.subplots(1,2,figsize=(15,5))\n",
    "\n",
    "sns.regplot(y_test,predictions,marker='x',ax=ax1)  # Plot looks good\n",
    "sns.distplot((y_test-predictions),bins=50,color='Blue',ax=ax2) ### Errors are in normality"
   ]
  },
  {
   "cell_type": "code",
   "execution_count": null,
   "metadata": {},
   "outputs": [],
   "source": [
    "# Check the Evaluation matrix\n",
    "\n",
    "MAE = metrics.mean_absolute_error(y_test,predictions)\n",
    "print({'mean_absolute_error' : MAE})\n",
    "\n",
    "MSE = metrics.mean_squared_error(y_test,predictions)\n",
    "print({'mean_squared_error' : MSE})\n",
    "\n",
    "RMSE = np.sqrt(metrics.mean_squared_error(y_test,predictions))\n",
    "print({'Root mean_squared_error' : RMSE})\n",
    "\n",
    "r2_score = metrics.r2_score(y_test,predictions)\n",
    "print({' r2_score' : r2_score})\n"
   ]
  },
  {
   "cell_type": "code",
   "execution_count": null,
   "metadata": {},
   "outputs": [],
   "source": [
    "index = np.arange(1,63,1)\n",
    "# Check the actual Values and predicted Values\n",
    "\n",
    "fig = plt.figure(figsize=(15,5))\n",
    "plt.plot(index,y_test, color=\"blue\", linewidth=2.5, linestyle=\"-\")     #Plotting Actual\n",
    "plt.plot(index,predictions, color=\"red\",  linewidth=2.5, linestyle=\"-\")  #Plotting predicted\n",
    "fig.suptitle('Actual and Predicted', fontsize=15)              # Plot heading \n",
    "plt.xlabel('Index', fontsize=12)                               # X-label\n",
    "plt.ylabel('Price', fontsize=12) "
   ]
  },
  {
   "cell_type": "markdown",
   "metadata": {},
   "source": [
    "# model with 6 features"
   ]
  },
  {
   "cell_type": "code",
   "execution_count": 76,
   "metadata": {},
   "outputs": [
    {
     "name": "stdout",
     "output_type": "stream",
     "text": [
      "                            OLS Regression Results                            \n",
      "==============================================================================\n",
      "Dep. Variable:                  price   R-squared:                       0.929\n",
      "Model:                            OLS   Adj. R-squared:                  0.926\n",
      "Method:                 Least Squares   F-statistic:                     295.8\n",
      "Date:                Fri, 08 Feb 2019   Prob (F-statistic):           1.90e-75\n",
      "Time:                        06:32:31   Log-Likelihood:                 220.68\n",
      "No. Observations:                 143   AIC:                            -427.4\n",
      "Df Residuals:                     136   BIC:                            -406.6\n",
      "Df Model:                           6                                         \n",
      "Covariance Type:            nonrobust                                         \n",
      "======================================================================================\n",
      "                         coef    std err          t      P>|t|      [0.025      0.975]\n",
      "--------------------------------------------------------------------------------------\n",
      "const              -7.345e-05      0.004     -0.016      0.987      -0.009       0.009\n",
      "carwidth               0.3846      0.033     11.757      0.000       0.320       0.449\n",
      "horsepower             0.2610      0.025     10.382      0.000       0.211       0.311\n",
      "enginelocation        -0.4037      0.042     -9.724      0.000      -0.486      -0.322\n",
      "brand_Name__bmw        0.2161      0.023      9.592      0.000       0.172       0.261\n",
      "brand_Name__buick      0.3311      0.030     11.127      0.000       0.272       0.390\n",
      "brand_Name__jaguar     0.2694      0.033      8.064      0.000       0.203       0.335\n",
      "==============================================================================\n",
      "Omnibus:                       17.638   Durbin-Watson:                   2.204\n",
      "Prob(Omnibus):                  0.000   Jarque-Bera (JB):               20.225\n",
      "Skew:                           0.828   Prob(JB):                     4.06e-05\n",
      "Kurtosis:                       3.809   Cond. No.                         10.5\n",
      "==============================================================================\n",
      "\n",
      "Warnings:\n",
      "[1] Standard Errors assume that the covariance matrix of the errors is correctly specified.\n"
     ]
    }
   ],
   "source": [
    "# Build the model in linear regression with 6 Features\n",
    "lm = LinearRegression()\n",
    "lm_RFE = RFE(lm,n_features_to_select=6,step=1)\n",
    "lm_RFE = lm_RFE.fit(X_train,y_train)\n",
    "\n",
    "# Find out the 6 Features which RFE is selected\n",
    "col = X_train.columns[lm_RFE.support_]\n",
    "\n",
    "# Creating X_train dataframe with RFE selected variables\n",
    "X_train_RFE = X_train[col]\n",
    "X_train_RFE = sm.add_constant(X_train_RFE)\n",
    "lm_model5 = sm.OLS(y_train,X_train_RFE).fit()\n",
    "print(lm_model5.summary())\n",
    "\n",
    "# Looks all the variables having the good Sig\n",
    "# R_Squared and Adjusted R_squared is Good\n",
    "# All Variables P Values is Good\n"
   ]
  },
  {
   "cell_type": "code",
   "execution_count": 77,
   "metadata": {},
   "outputs": [
    {
     "name": "stdout",
     "output_type": "stream",
     "text": [
      "VIFthroshold: 14.08450704225353\n"
     ]
    },
    {
     "data": {
      "text/html": [
       "<div>\n",
       "<style scoped>\n",
       "    .dataframe tbody tr th:only-of-type {\n",
       "        vertical-align: middle;\n",
       "    }\n",
       "\n",
       "    .dataframe tbody tr th {\n",
       "        vertical-align: top;\n",
       "    }\n",
       "\n",
       "    .dataframe thead th {\n",
       "        text-align: right;\n",
       "    }\n",
       "</style>\n",
       "<table border=\"1\" class=\"dataframe\">\n",
       "  <thead>\n",
       "    <tr style=\"text-align: right;\">\n",
       "      <th></th>\n",
       "      <th>Var</th>\n",
       "      <th>Vif</th>\n",
       "    </tr>\n",
       "  </thead>\n",
       "  <tbody>\n",
       "    <tr>\n",
       "      <th>0</th>\n",
       "      <td>carwidth</td>\n",
       "      <td>2.37</td>\n",
       "    </tr>\n",
       "    <tr>\n",
       "      <th>1</th>\n",
       "      <td>horsepower</td>\n",
       "      <td>2.31</td>\n",
       "    </tr>\n",
       "    <tr>\n",
       "      <th>4</th>\n",
       "      <td>brand_Name__buick</td>\n",
       "      <td>1.32</td>\n",
       "    </tr>\n",
       "    <tr>\n",
       "      <th>2</th>\n",
       "      <td>enginelocation</td>\n",
       "      <td>1.24</td>\n",
       "    </tr>\n",
       "    <tr>\n",
       "      <th>5</th>\n",
       "      <td>brand_Name__jaguar</td>\n",
       "      <td>1.12</td>\n",
       "    </tr>\n",
       "    <tr>\n",
       "      <th>3</th>\n",
       "      <td>brand_Name__bmw</td>\n",
       "      <td>1.08</td>\n",
       "    </tr>\n",
       "  </tbody>\n",
       "</table>\n",
       "</div>"
      ],
      "text/plain": [
       "                  Var   Vif\n",
       "0            carwidth  2.37\n",
       "1          horsepower  2.31\n",
       "4   brand_Name__buick  1.32\n",
       "2      enginelocation  1.24\n",
       "5  brand_Name__jaguar  1.12\n",
       "3     brand_Name__bmw  1.08"
      ]
     },
     "execution_count": 77,
     "metadata": {},
     "output_type": "execute_result"
    }
   ],
   "source": [
    "# Check the VIF Problems in the Data\n",
    "remove = X_train.columns.difference(X_train_RFE.columns)\n",
    "print('VIFthroshold:',1/(1-0.929))\n",
    "VIF(input_data=Final_data.drop(columns=remove),dependent_col='price') ### Looks VIF Values is Good "
   ]
  },
  {
   "cell_type": "code",
   "execution_count": null,
   "metadata": {},
   "outputs": [],
   "source": [
    "# Check the Corrleaction Matrix\n",
    "plt.figure(figsize=(15,8))\n",
    "sns.heatmap(Final_data.drop(columns=remove).corr(),annot=True)\n"
   ]
  },
  {
   "cell_type": "markdown",
   "metadata": {},
   "source": [
    "# Predicting Using 6 Features\n",
    "    Remove the non model variables in test data\n",
    "    add the Consistant value in testdata\n",
    "    predict the model in testdata\n",
    "    Check the Test, and Predicted Values using scatter plot\n",
    "    Check the Errors Distrubution\n",
    "    Check the R_Squre , MSE and RMSE Values"
   ]
  },
  {
   "cell_type": "code",
   "execution_count": 79,
   "metadata": {},
   "outputs": [
    {
     "name": "stdout",
     "output_type": "stream",
     "text": [
      "(62, 7)\n"
     ]
    },
    {
     "ename": "NameError",
     "evalue": "name 'X_train_6' is not defined",
     "output_type": "error",
     "traceback": [
      "\u001b[1;31m---------------------------------------------------------------------------\u001b[0m",
      "\u001b[1;31mNameError\u001b[0m                                 Traceback (most recent call last)",
      "\u001b[1;32m<ipython-input-79-a6c125ff70d4>\u001b[0m in \u001b[0;36m<module>\u001b[1;34m\u001b[0m\n\u001b[0;32m      4\u001b[0m \u001b[1;33m\u001b[0m\u001b[0m\n\u001b[0;32m      5\u001b[0m \u001b[0mprint\u001b[0m\u001b[1;33m(\u001b[0m\u001b[0mX_test_6\u001b[0m\u001b[1;33m.\u001b[0m\u001b[0mshape\u001b[0m\u001b[1;33m)\u001b[0m\u001b[1;33m\u001b[0m\u001b[1;33m\u001b[0m\u001b[0m\n\u001b[1;32m----> 6\u001b[1;33m \u001b[0mprint\u001b[0m\u001b[1;33m(\u001b[0m\u001b[0mX_train_6\u001b[0m\u001b[1;33m.\u001b[0m\u001b[0mshape\u001b[0m\u001b[1;33m)\u001b[0m\u001b[1;33m\u001b[0m\u001b[1;33m\u001b[0m\u001b[0m\n\u001b[0m",
      "\u001b[1;31mNameError\u001b[0m: name 'X_train_6' is not defined"
     ]
    }
   ],
   "source": [
    "# Remove the non model variables in test data and add the consistant Values\n",
    "X_test_6 = X_test.drop(columns=remove)\n",
    "X_test_6 = sm.add_constant(X_test_6,has_constant='add')\n",
    "\n",
    "print(X_test_6.shape)\n",
    "print(X_train_6.shape)"
   ]
  },
  {
   "cell_type": "code",
   "execution_count": null,
   "metadata": {},
   "outputs": [],
   "source": [
    "# predict the model in testdata\n",
    "predictions = lm_model5.predict(X_test_6)"
   ]
  },
  {
   "cell_type": "code",
   "execution_count": null,
   "metadata": {},
   "outputs": [],
   "source": [
    "# Check the Evaluation matrix\n",
    "\n",
    "MAE = metrics.mean_absolute_error(y_test,predictions)\n",
    "print({'mean_absolute_error' : MAE})\n",
    "\n",
    "MSE = metrics.mean_squared_error(y_test,predictions)\n",
    "print({'mean_squared_error' : MSE})\n",
    "\n",
    "RMSE = np.sqrt(metrics.mean_squared_error(y_test,predictions))\n",
    "print({'Root mean_squared_error' : RMSE})\n",
    "\n",
    "r2_score = metrics.r2_score(y_test,predictions)\n",
    "print({' r2_score' : r2_score})\n"
   ]
  },
  {
   "cell_type": "code",
   "execution_count": null,
   "metadata": {},
   "outputs": [],
   "source": [
    "fig,(ax1,ax2) = plt.subplots(1,2,figsize=(15,5))\n",
    "\n",
    "sns.regplot(y_test,predictions,marker='x',ax=ax1)  # Plot looks good\n",
    "sns.distplot((y_test-predictions),bins=50,color='Blue',ax=ax2) ### Errors are in normality"
   ]
  },
  {
   "cell_type": "code",
   "execution_count": null,
   "metadata": {
    "scrolled": false
   },
   "outputs": [],
   "source": [
    "index = np.arange(1,63,1)\n",
    "# Check the actual Values and predicted Values\n",
    "\n",
    "fig = plt.figure(figsize=(15,5))\n",
    "plt.plot(index,y_test, color=\"blue\", linewidth=2.5, linestyle=\"-\")     #Plotting Actual\n",
    "plt.plot(index,predictions, color=\"red\",  linewidth=2.5, linestyle=\"-\")  #Plotting predicted\n",
    "fig.suptitle('Actual and Predicted', fontsize=15)              # Plot heading \n",
    "plt.xlabel('Index', fontsize=12)                               # X-label\n",
    "plt.ylabel('Price', fontsize=12) "
   ]
  },
  {
   "cell_type": "markdown",
   "metadata": {},
   "source": [
    "# How to interpret the Coefficent Values"
   ]
  },
  {
   "cell_type": "code",
   "execution_count": null,
   "metadata": {
    "scrolled": false
   },
   "outputs": [],
   "source": [
    "Coeff = pd.DataFrame(lm_model5.params,columns=['coefficients'])\n",
    "Coeff"
   ]
  },
  {
   "cell_type": "code",
   "execution_count": null,
   "metadata": {},
   "outputs": [],
   "source": [
    "Interpreting the coefficients:\n",
    "\n",
    "Holding all other features fixed, a 1 unit increase in carwidth is associated with an increase of 0.384552  price \n",
    "Holding all other features fixed, a 1 unit increase in horsepower is associated with an increase of 0.260964 total price\n",
    "Holding all other features fixed, a 1 unit increase in enginelocation is associated with an Decresis of -0.403671 total price\n",
    "Holding all other features fixed, a 1 unit increase in brand_Name__bmw is associated with an increase of 0.216107 total price\n",
    "Holding all other features fixed, a 1 unit increase in brand_Name__buick is associated with an increase of 0.331088 total price\n",
    "Holding all other features fixed, a 1 unit increase in brand_Name__jaguar is associated with an increase of 0.269422 total price\n"
   ]
  },
  {
   "cell_type": "code",
   "execution_count": null,
   "metadata": {},
   "outputs": [],
   "source": []
  },
  {
   "cell_type": "code",
   "execution_count": null,
   "metadata": {},
   "outputs": [],
   "source": []
  },
  {
   "cell_type": "code",
   "execution_count": null,
   "metadata": {},
   "outputs": [],
   "source": []
  },
  {
   "cell_type": "code",
   "execution_count": null,
   "metadata": {},
   "outputs": [],
   "source": []
  }
 ],
 "metadata": {
  "kernelspec": {
   "display_name": "Python 3",
   "language": "python",
   "name": "python3"
  },
  "language_info": {
   "codemirror_mode": {
    "name": "ipython",
    "version": 3
   },
   "file_extension": ".py",
   "mimetype": "text/x-python",
   "name": "python",
   "nbconvert_exporter": "python",
   "pygments_lexer": "ipython3",
   "version": "3.7.1"
  }
 },
 "nbformat": 4,
 "nbformat_minor": 2
}
