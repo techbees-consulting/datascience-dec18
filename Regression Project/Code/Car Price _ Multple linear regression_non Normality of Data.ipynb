{
 "cells": [
  {
   "cell_type": "code",
   "execution_count": null,
   "metadata": {},
   "outputs": [],
   "source": [
    "import pandas as pd\n",
    "import numpy as np\n",
    "import matplotlib.pyplot as plt\n",
    "import seaborn as sns\n",
    "import warnings\n",
    "import statsmodels.api as sm"
   ]
  },
  {
   "cell_type": "code",
   "execution_count": null,
   "metadata": {},
   "outputs": [],
   "source": [
    "%matplotlib inline"
   ]
  },
  {
   "cell_type": "code",
   "execution_count": null,
   "metadata": {},
   "outputs": [],
   "source": [
    "warnings.filterwarnings(action='ignore')"
   ]
  },
  {
   "cell_type": "code",
   "execution_count": null,
   "metadata": {},
   "outputs": [],
   "source": [
    "from sklearn.model_selection import train_test_split\n",
    "from sklearn.feature_selection import RFE\n",
    "from sklearn.linear_model import LinearRegression\n",
    "from sklearn import metrics"
   ]
  },
  {
   "cell_type": "code",
   "execution_count": null,
   "metadata": {},
   "outputs": [],
   "source": [
    "car = pd.read_csv('CarPrice_Assignment.csv')"
   ]
  },
  {
   "cell_type": "code",
   "execution_count": null,
   "metadata": {},
   "outputs": [],
   "source": [
    "car.head()"
   ]
  },
  {
   "cell_type": "code",
   "execution_count": null,
   "metadata": {},
   "outputs": [],
   "source": [
    "car.shape"
   ]
  },
  {
   "cell_type": "code",
   "execution_count": null,
   "metadata": {},
   "outputs": [],
   "source": [
    "car.info(memory_usage=True,null_counts=True)"
   ]
  },
  {
   "cell_type": "code",
   "execution_count": null,
   "metadata": {},
   "outputs": [],
   "source": [
    "train = car.drop(columns='car_ID')"
   ]
  },
  {
   "cell_type": "code",
   "execution_count": null,
   "metadata": {},
   "outputs": [],
   "source": [
    "train.shape"
   ]
  },
  {
   "cell_type": "code",
   "execution_count": null,
   "metadata": {},
   "outputs": [],
   "source": [
    "train.info()"
   ]
  },
  {
   "cell_type": "code",
   "execution_count": null,
   "metadata": {
    "scrolled": false
   },
   "outputs": [],
   "source": [
    "train.head()\n"
   ]
  },
  {
   "cell_type": "code",
   "execution_count": null,
   "metadata": {},
   "outputs": [],
   "source": [
    "train.get_dtype_counts()"
   ]
  },
  {
   "cell_type": "markdown",
   "metadata": {},
   "source": [
    "#### Extract the brand name from CarName Variable"
   ]
  },
  {
   "cell_type": "code",
   "execution_count": null,
   "metadata": {},
   "outputs": [],
   "source": [
    "train['brand_Name'] = train['CarName'].str.split(expand=True)[0]"
   ]
  },
  {
   "cell_type": "code",
   "execution_count": null,
   "metadata": {},
   "outputs": [],
   "source": [
    "train.get_dtype_counts()"
   ]
  },
  {
   "cell_type": "code",
   "execution_count": null,
   "metadata": {},
   "outputs": [],
   "source": [
    "\n",
    "train = train.drop(columns='CarName')"
   ]
  },
  {
   "cell_type": "code",
   "execution_count": null,
   "metadata": {
    "scrolled": true
   },
   "outputs": [],
   "source": [
    "train.head()"
   ]
  },
  {
   "cell_type": "code",
   "execution_count": null,
   "metadata": {},
   "outputs": [],
   "source": [
    "train.get_dtype_counts()"
   ]
  },
  {
   "cell_type": "code",
   "execution_count": null,
   "metadata": {
    "scrolled": false
   },
   "outputs": [],
   "source": [
    "train.memory_usage(deep=True)"
   ]
  },
  {
   "cell_type": "code",
   "execution_count": null,
   "metadata": {
    "scrolled": true
   },
   "outputs": [],
   "source": [
    "train.get_dtype_counts()"
   ]
  },
  {
   "cell_type": "markdown",
   "metadata": {},
   "source": [
    "                        #### Check the data Quality on Each Variable"
   ]
  },
  {
   "cell_type": "code",
   "execution_count": null,
   "metadata": {
    "scrolled": false
   },
   "outputs": [],
   "source": [
    "train.describe().T"
   ]
  },
  {
   "cell_type": "code",
   "execution_count": null,
   "metadata": {},
   "outputs": [],
   "source": [
    "train.get_dtype_counts()"
   ]
  },
  {
   "cell_type": "code",
   "execution_count": null,
   "metadata": {
    "scrolled": true
   },
   "outputs": [],
   "source": [
    "train.columns"
   ]
  },
  {
   "cell_type": "code",
   "execution_count": null,
   "metadata": {},
   "outputs": [],
   "source": [
    "train['fueltype'].value_counts()"
   ]
  },
  {
   "cell_type": "code",
   "execution_count": null,
   "metadata": {},
   "outputs": [],
   "source": [
    "train['aspiration'].value_counts()"
   ]
  },
  {
   "cell_type": "code",
   "execution_count": null,
   "metadata": {},
   "outputs": [],
   "source": [
    "train['doornumber'].value_counts()"
   ]
  },
  {
   "cell_type": "code",
   "execution_count": null,
   "metadata": {},
   "outputs": [],
   "source": [
    "train['carbody'].value_counts()"
   ]
  },
  {
   "cell_type": "code",
   "execution_count": null,
   "metadata": {},
   "outputs": [],
   "source": [
    "train['drivewheel'].value_counts()"
   ]
  },
  {
   "cell_type": "code",
   "execution_count": null,
   "metadata": {},
   "outputs": [],
   "source": [
    "train['enginelocation'].value_counts()"
   ]
  },
  {
   "cell_type": "code",
   "execution_count": null,
   "metadata": {},
   "outputs": [],
   "source": [
    "train['cylindernumber'].value_counts()"
   ]
  },
  {
   "cell_type": "code",
   "execution_count": null,
   "metadata": {
    "scrolled": true
   },
   "outputs": [],
   "source": [
    "train['fuelsystem'].value_counts()"
   ]
  },
  {
   "cell_type": "code",
   "execution_count": null,
   "metadata": {},
   "outputs": [],
   "source": [
    "train['fuelsystem'] = train['fuelsystem'].replace({'mfi':'mpfi','spfi':'spdi'})"
   ]
  },
  {
   "cell_type": "code",
   "execution_count": null,
   "metadata": {},
   "outputs": [],
   "source": [
    "train['fuelsystem'].value_counts()"
   ]
  },
  {
   "cell_type": "code",
   "execution_count": null,
   "metadata": {},
   "outputs": [],
   "source": [
    "train.get_dtype_counts()"
   ]
  },
  {
   "cell_type": "code",
   "execution_count": null,
   "metadata": {
    "scrolled": false
   },
   "outputs": [],
   "source": [
    "train.brand_Name.value_counts()\n"
   ]
  },
  {
   "cell_type": "code",
   "execution_count": null,
   "metadata": {},
   "outputs": [],
   "source": [
    "train['brand_Name'] = train.brand_Name.replace({'vw':'volkswagen','vokswagen':'volkswagen','maxda':'mazda',\n",
    "                                           'toyouta':'toyota','Nissan':'nissan','porcshce':'porsche'})"
   ]
  },
  {
   "cell_type": "code",
   "execution_count": null,
   "metadata": {},
   "outputs": [],
   "source": [
    "train.brand_Name.value_counts()"
   ]
  },
  {
   "cell_type": "code",
   "execution_count": null,
   "metadata": {},
   "outputs": [],
   "source": [
    "train.enginetype.value_counts()"
   ]
  },
  {
   "cell_type": "code",
   "execution_count": null,
   "metadata": {},
   "outputs": [],
   "source": [
    "train['enginetype'] = train['enginetype'].replace({'dohcv':'dohc'})"
   ]
  },
  {
   "cell_type": "code",
   "execution_count": null,
   "metadata": {},
   "outputs": [],
   "source": [
    "train.enginetype.value_counts()"
   ]
  },
  {
   "cell_type": "code",
   "execution_count": null,
   "metadata": {},
   "outputs": [],
   "source": [
    "train.brand_Name.value_counts()"
   ]
  },
  {
   "cell_type": "code",
   "execution_count": null,
   "metadata": {
    "scrolled": true
   },
   "outputs": [],
   "source": [
    "train.get_dtype_counts()"
   ]
  },
  {
   "cell_type": "markdown",
   "metadata": {},
   "source": [
    "-                                                # Summary #\n",
    "\n",
    "1. identified data entry error in brand Variable- Resolved\n",
    "2. No Missing Data -- Good\n",
    "3. Check Outliers in the data - YTS\n",
    "\n",
    "                                            # Univarite Analysis"
   ]
  },
  {
   "cell_type": "code",
   "execution_count": null,
   "metadata": {},
   "outputs": [],
   "source": [
    "Number_data = train.select_dtypes(include= ['number'])"
   ]
  },
  {
   "cell_type": "code",
   "execution_count": null,
   "metadata": {},
   "outputs": [],
   "source": [
    "Number_data.shape"
   ]
  },
  {
   "cell_type": "code",
   "execution_count": null,
   "metadata": {},
   "outputs": [],
   "source": [
    "Category_data = train.select_dtypes(include=['object'])"
   ]
  },
  {
   "cell_type": "code",
   "execution_count": null,
   "metadata": {},
   "outputs": [],
   "source": [
    "Category_data.shape"
   ]
  },
  {
   "cell_type": "raw",
   "metadata": {},
   "source": [
    "# Univaite Analysis for number data (Possiablity of Analysis)\n",
    "\n",
    "1. Correlaction Analysis\n",
    "2. Distrubution of each variables using Histogram\n",
    "3. Outlier analysis for each Variable"
   ]
  },
  {
   "cell_type": "code",
   "execution_count": null,
   "metadata": {
    "scrolled": false
   },
   "outputs": [],
   "source": [
    "corr = Number_data.corr().round(3)\n",
    "corr\n"
   ]
  },
  {
   "cell_type": "code",
   "execution_count": null,
   "metadata": {
    "scrolled": false
   },
   "outputs": [],
   "source": [
    "plt.figure(figsize=(20,8))\n",
    "sns.heatmap(corr,annot=True,cmap='summer_r')\n",
    "\n",
    "### Summary\n",
    "# looks data is having multple Collenarity problem, \n"
   ]
  },
  {
   "cell_type": "code",
   "execution_count": null,
   "metadata": {},
   "outputs": [],
   "source": [
    "Number_data.columns"
   ]
  },
  {
   "cell_type": "code",
   "execution_count": null,
   "metadata": {},
   "outputs": [],
   "source": [
    "fig, ax_array = plt.subplots(5,3, linewidth=3,figsize=(10,15))\n",
    "(ax1,ax2,ax3),(ax4,ax5,ax6),(ax7,ax8,ax9),(ax10,ax11,ax12),(ax13,ax14,ax15)= ax_array\n",
    "\n",
    "sns.boxplot(y='symboling',data=Number_data,ax=ax1)\n",
    "sns.boxplot(y='wheelbase',data=Number_data,ax=ax2)\n",
    "sns.boxplot(y='carlength',data=Number_data,ax=ax3)\n",
    "sns.boxplot(y='carwidth',data=Number_data,ax=ax4)\n",
    "sns.boxplot(y='carheight',data=Number_data,ax=ax5)\n",
    "sns.boxplot(y='curbweight',data=Number_data,ax=ax6)\n",
    "sns.boxplot(y='enginesize',data=Number_data,ax=ax7)\n",
    "sns.boxplot(y='boreratio',data=Number_data,ax=ax8)\n",
    "sns.boxplot(y='stroke',data=Number_data,ax=ax9)\n",
    "sns.boxplot(y='compressionratio',data=Number_data,ax=ax10)\n",
    "sns.boxplot(y='horsepower',data=Number_data,ax=ax11)\n",
    "sns.boxplot(y='peakrpm',data=Number_data,ax=ax12)\n",
    "sns.boxplot(y='citympg',data=Number_data,ax=ax13)\n",
    "sns.boxplot(y='highwaympg',data=Number_data,ax=ax14)\n",
    "sns.boxplot(y='price',data=Number_data,ax=ax15)"
   ]
  },
  {
   "cell_type": "code",
   "execution_count": null,
   "metadata": {},
   "outputs": [],
   "source": [
    "Category_data.columns"
   ]
  },
  {
   "cell_type": "code",
   "execution_count": null,
   "metadata": {
    "scrolled": false
   },
   "outputs": [],
   "source": [
    "fig, ax_array = plt.subplots(3,3, linewidth=3,figsize=(15,15))\n",
    "(ax1,ax2,ax3),(ax4,ax5,ax6),(ax7,ax8,ax9)= ax_array\n",
    "\n",
    "sns.countplot('fueltype',data=Category_data,ax=ax1)\n",
    "sns.countplot('aspiration',data=Category_data,ax=ax2)\n",
    "sns.countplot('doornumber',data=Category_data,ax=ax3)\n",
    "sns.countplot('carbody',data=Category_data,ax=ax4,order=Category_data.carbody.value_counts().index)\n",
    "sns.countplot('drivewheel',data=Category_data,ax=ax5,order=Category_data.drivewheel.value_counts().index)\n",
    "sns.countplot('enginelocation',data=Category_data,ax=ax6)\n",
    "sns.countplot('enginetype',data=Category_data,ax=ax7,order=Category_data.enginetype.value_counts().index)\n",
    "sns.countplot('cylindernumber',data=Category_data,ax=ax8,order=Category_data.cylindernumber.value_counts().index)\n",
    "sns.countplot('fuelsystem',data=Category_data,ax=ax9,order=Category_data.fuelsystem.value_counts().index)"
   ]
  },
  {
   "cell_type": "code",
   "execution_count": null,
   "metadata": {},
   "outputs": [],
   "source": [
    "plt.figure(figsize=(15,5))\n",
    "sns.countplot('brand_Name',data=Category_data,order=Category_data.brand_Name.value_counts().index,palette=\"Blues_r\")\n",
    "plt.xticks(rotation=35)\n",
    "              "
   ]
  },
  {
   "cell_type": "markdown",
   "metadata": {},
   "source": [
    "###                                        ### Univarite Analysis Summary ####\n",
    "\n",
    "1. Indepent Variables (Following Variables) having the High Correlaction, Which leads Multicollinority problem \n",
    "                \n",
    "                Wheelbase,\n",
    "                Carlength,\n",
    "                Carwidth,\n",
    "                crubhight, \n",
    "                CarHight,\n",
    "                enginesize,\n",
    "                boreratio \n",
    "                \n",
    "\n",
    "2.Outlier Issues : (Univarite Analysis)\n",
    "\n",
    "        Wheelbase, \n",
    "        Carlength, \n",
    "        Carwidth,\n",
    "        enginesize,stoke,\n",
    "        compressionratio,\n",
    "        horsepower,\n",
    "        peakrpm,citympg,\n",
    "        highwaympg\n",
    "        \n",
    "3. as per distrubution Most of the cars brands in Toyota, least cars in mercury\n",
    "4. Most of the cars having 4 Cylenders, and Gas Vehicals....etc                         "
   ]
  },
  {
   "cell_type": "markdown",
   "metadata": {},
   "source": [
    "### Dependent Variable : 'Price'         ==========BiVarite Analysis=======\n",
    "\n",
    "\n",
    "1. For numbers data we have already done the correlaction Analysis. please see below Comments\n",
    "    \n",
    "   High positive Correlaction with Dependent variable\n",
    "    \n",
    "    Hoursepower\n",
    "    Boreratio\n",
    "    EngineSize\n",
    "    Curbweigth\n",
    "    Carwidth\n",
    "    Carlength\n",
    "    wheelbase\n",
    "   \n",
    "   below variables are high negitive Coorelaction\n",
    "   \n",
    "   Highwaympg\n",
    "   citympg\n",
    "   peakrpm\n",
    "   symbolling\n"
   ]
  },
  {
   "cell_type": "code",
   "execution_count": null,
   "metadata": {
    "scrolled": false
   },
   "outputs": [],
   "source": [
    "fig, ax_array = plt.subplots(5,3, linewidth=3,figsize=(20,20))\n",
    "(ax1,ax2,ax3),(ax4,ax5,ax6),(ax7,ax8,ax9),(ax10,ax11,ax12),(ax13,ax14,ax15)= ax_array\n",
    "\n",
    "sns.regplot(x='symboling',y='price',data=Number_data,ax=ax1,marker=\"+\")\n",
    "sns.regplot(x='wheelbase',y='price',data=Number_data,ax=ax2)\n",
    "sns.regplot(x='carlength',y='price',data=Number_data,ax=ax3)\n",
    "sns.regplot(x='carwidth',y='price',data=Number_data,ax=ax4)\n",
    "sns.regplot(x='carheight',y='price',data=Number_data,ax=ax5)\n",
    "sns.regplot(x='curbweight',y='price',data=Number_data,ax=ax6)\n",
    "sns.regplot(x='enginesize',y='price',data=Number_data,ax=ax7)\n",
    "sns.regplot(x='boreratio',y='price',data=Number_data,ax=ax8)\n",
    "sns.regplot(x='stroke',y='price',data=Number_data,ax=ax9)\n",
    "sns.regplot(x='compressionratio',y='price',data=Number_data,ax=ax10)\n",
    "sns.regplot(x='horsepower',y='price',data=Number_data,ax=ax11)\n",
    "sns.regplot(x='peakrpm',y='price',data=Number_data,ax=ax12)\n",
    "sns.regplot(x='citympg',y='price',data=Number_data,ax=ax13)\n",
    "sns.regplot(x='highwaympg',y='price',data=Number_data,ax=ax14)"
   ]
  },
  {
   "cell_type": "raw",
   "metadata": {},
   "source": [
    "Each Categorical variables Compare with Dependent Variable"
   ]
  },
  {
   "cell_type": "code",
   "execution_count": null,
   "metadata": {},
   "outputs": [],
   "source": [
    "Category_data['price'] = train['price']"
   ]
  },
  {
   "cell_type": "code",
   "execution_count": null,
   "metadata": {
    "scrolled": true
   },
   "outputs": [],
   "source": [
    "Category_data.columns"
   ]
  },
  {
   "cell_type": "code",
   "execution_count": null,
   "metadata": {},
   "outputs": [],
   "source": [
    "fig, ax_array = plt.subplots(3,3, linewidth=3,figsize=(15,15))\n",
    "(ax1,ax2,ax3),(ax4,ax5,ax6),(ax7,ax8,ax9)= ax_array\n",
    "\n",
    "sns.boxplot(y='fueltype',x='price',data=Category_data,ax=ax1)\n",
    "sns.boxplot(x='aspiration',y='price',data=Category_data,ax=ax2)\n",
    "sns.boxplot(x='doornumber',y='price',data=Category_data,ax=ax3)\n",
    "sns.boxplot(x='carbody',y='price',data=Category_data,ax=ax4,order=Category_data.carbody.value_counts().index)\n",
    "sns.boxplot(x='drivewheel',y='price',data=Category_data,ax=ax5,order=Category_data.drivewheel.value_counts().index)\n",
    "sns.boxplot(x='enginelocation',y='price',data=Category_data,ax=ax6)\n",
    "sns.boxplot(x='enginetype',y='price',data=Category_data,ax=ax7,order=Category_data.enginetype.value_counts().index)\n",
    "sns.boxplot(x='cylindernumber',y='price',data=Category_data,ax=ax8,order=Category_data.cylindernumber.value_counts().index)\n",
    "sns.boxplot(x='fuelsystem',y='price',data=Category_data,ax=ax9,order=Category_data.fuelsystem.value_counts().index)"
   ]
  },
  {
   "cell_type": "code",
   "execution_count": null,
   "metadata": {
    "scrolled": false
   },
   "outputs": [],
   "source": [
    "plt.figure(figsize=(20,7))\n",
    "sns.boxplot(x='brand_Name',y='price',data=Category_data)\n",
    "plt.xticks(rotation=35)"
   ]
  },
  {
   "cell_type": "markdown",
   "metadata": {},
   "source": [
    "Dependent Variable : 'Price'         ==========BiVarite Analysis=======\n",
    "\n",
    "\n",
    "1. As per the Boxplot Categorical data is havig sig with Price Variable\n",
    "2. Outliers also available after relating the price variable\n",
    "  "
   ]
  },
  {
   "cell_type": "code",
   "execution_count": null,
   "metadata": {},
   "outputs": [],
   "source": [
    "Category_data = Category_data.drop(columns='price')"
   ]
  },
  {
   "cell_type": "code",
   "execution_count": null,
   "metadata": {},
   "outputs": [],
   "source": [
    "Category_data.columns"
   ]
  },
  {
   "cell_type": "markdown",
   "metadata": {},
   "source": [
    "### Creating the Dummy Variables on Categorical Data\n",
    "\n",
    "    1. If Coloums having 2 Factors, will assign vlaues as 1 and 0\n",
    "    2. If Coloums having more than 2 factors will assign dummy variables with (n-1)\n",
    "            example: Colum having 5 factors, we create the 4 differnt variables and if all Variables is 0, it means that row is fifth factors"
   ]
  },
  {
   "cell_type": "code",
   "execution_count": null,
   "metadata": {},
   "outputs": [],
   "source": [
    "Category_data.head()"
   ]
  },
  {
   "cell_type": "code",
   "execution_count": null,
   "metadata": {},
   "outputs": [],
   "source": [
    "Category_data['fueltype'] = Category_data['fueltype'].map({'gas':1,'diesel':0})\n",
    "Category_data['aspiration'] = Category_data['aspiration'].map({'std':1,'turbo':0})\n",
    "Category_data['doornumber'] = Category_data['doornumber'].map({'four':1,'two':0})\n",
    "Category_data['enginelocation'] = Category_data['enginelocation'].map({'front':1,'rear':0})"
   ]
  },
  {
   "cell_type": "code",
   "execution_count": null,
   "metadata": {},
   "outputs": [],
   "source": [
    "Category_data.head()"
   ]
  },
  {
   "cell_type": "code",
   "execution_count": null,
   "metadata": {},
   "outputs": [],
   "source": [
    "carbody = Category_data['carbody']\n",
    "drivewheel = Category_data['drivewheel']\n",
    "enginetype = Category_data['enginetype']\n",
    "cylindernumber = Category_data['cylindernumber']\n",
    "fuelsystem = Category_data['fuelsystem']\n",
    "brand_Name = Category_data['brand_Name']"
   ]
  },
  {
   "cell_type": "code",
   "execution_count": null,
   "metadata": {},
   "outputs": [],
   "source": [
    "drop = ['carbody','drivewheel','enginetype','cylindernumber','fuelsystem','brand_Name']"
   ]
  },
  {
   "cell_type": "code",
   "execution_count": null,
   "metadata": {},
   "outputs": [],
   "source": [
    "carbody = pd.get_dummies(carbody,prefix='carbody_',drop_first=True)\n",
    "drivewheel = pd.get_dummies(drivewheel,prefix='drivewheel_',drop_first=True)\n",
    "enginetype = pd.get_dummies(enginetype,prefix='enginetype_',drop_first=True)\n",
    "cylindernumber = pd.get_dummies(cylindernumber,prefix='cylindernumber_',drop_first=True)\n",
    "fuelsystem = pd.get_dummies(fuelsystem,prefix='fuelsystem_',drop_first=True)\n",
    "brand_Name = pd.get_dummies(brand_Name,prefix='brand_Name_',drop_first=True)"
   ]
  },
  {
   "cell_type": "code",
   "execution_count": null,
   "metadata": {},
   "outputs": [],
   "source": [
    "print(type(carbody))"
   ]
  },
  {
   "cell_type": "code",
   "execution_count": null,
   "metadata": {},
   "outputs": [],
   "source": [
    "Category_data_final = pd.concat([Category_data,carbody,drivewheel,enginetype,cylindernumber,fuelsystem,brand_Name],axis=1)"
   ]
  },
  {
   "cell_type": "code",
   "execution_count": null,
   "metadata": {},
   "outputs": [],
   "source": [
    "Category_data_final = Category_data_final.drop(columns=drop)"
   ]
  },
  {
   "cell_type": "code",
   "execution_count": null,
   "metadata": {},
   "outputs": [],
   "source": [
    "Category_data_final.head()"
   ]
  },
  {
   "cell_type": "markdown",
   "metadata": {},
   "source": [
    "#### Handling the Outliers Values on number data"
   ]
  },
  {
   "cell_type": "code",
   "execution_count": null,
   "metadata": {},
   "outputs": [],
   "source": [
    "def Outlier(x):\n",
    "    first_quantile = np.quantile(x,0.25)\n",
    "    third_quantile = np.quantile(x,0.75)\n",
    "    quartiles = np.quantile(a=x,q=[0.05,0.1,0.90,0.95,0.96,0.97,0.98,0.99,1])\n",
    "    IQR = (third_quantile - first_quantile)\n",
    "    Upper_fence = IQR+1.5*first_quantile\n",
    "    lower_fence = IQR-1.5*first_quantile\n",
    "    \n",
    "    return({'1st Quartile':first_quantile,\n",
    "           '3rd_quantile':third_quantile,\n",
    "            'IQR':IQR.round(3),\n",
    "           'Upper_fence':Upper_fence,\n",
    "           'lower_fence':lower_fence,\n",
    "           'quartiles':quartiles})\n",
    "    \n",
    "   "
   ]
  },
  {
   "cell_type": "code",
   "execution_count": null,
   "metadata": {},
   "outputs": [],
   "source": [
    "Outlier(Number_data.highwaympg)"
   ]
  },
  {
   "cell_type": "code",
   "execution_count": null,
   "metadata": {
    "scrolled": false
   },
   "outputs": [],
   "source": [
    "Number_data.highwaympg.describe()"
   ]
  },
  {
   "cell_type": "raw",
   "metadata": {},
   "source": [
    "Few Variables are replaced with IQR range Forumala along with Box Plots\n"
   ]
  },
  {
   "cell_type": "code",
   "execution_count": null,
   "metadata": {},
   "outputs": [],
   "source": [
    "Number_data['carlength'] = np.where(Number_data['carlength'] < 157.3, 157.3, Number_data['carlength'])\n",
    "Number_data['carwidth'] = np.where(Number_data['carwidth'] > 71, 71, Number_data['carwidth'])\n",
    "Number_data['enginesize'] = np.where(Number_data['enginesize'] > 201.2, 201.2, Number_data['enginesize'])\n",
    "Number_data['stroke'] = np.where(Number_data['stroke'] > 3.86, 3.86, Number_data['stroke'])\n",
    "Number_data['stroke'] = np.where(Number_data['stroke'] < 2.8, 2.8, Number_data['stroke'])\n",
    "Number_data['compressionratio'] = np.where(Number_data['compressionratio'] > 10, 10, Number_data['compressionratio'])\n",
    "Number_data['compressionratio'] = np.where(Number_data['compressionratio'] < 7.8, 7.8, Number_data['compressionratio'])\n",
    "Number_data['wheelbase'] = np.where(Number_data['wheelbase'] > 114.2,114.2, Number_data['wheelbase'])\n",
    "Number_data['horsepower'] = np.where(Number_data['horsepower'] > 184,184, Number_data['horsepower'])\n",
    "Number_data['peakrpm'] = np.where(Number_data['peakrpm'] > 6000,6000, Number_data['peakrpm'])\n",
    "Number_data['citympg'] = np.where(Number_data['citympg'] > 44.72,44.72, Number_data['citympg'])\n",
    "Number_data['highwaympg'] = np.where(Number_data['highwaympg'] > 46.92,46.92, Number_data['highwaympg'])"
   ]
  },
  {
   "cell_type": "code",
   "execution_count": null,
   "metadata": {},
   "outputs": [],
   "source": [
    "fig, ax_array = plt.subplots(5,3, linewidth=3,figsize=(10,15))\n",
    "(ax1,ax2,ax3),(ax4,ax5,ax6),(ax7,ax8,ax9),(ax10,ax11,ax12),(ax13,ax14,ax15)= ax_array\n",
    "\n",
    "sns.boxplot(y='symboling',data=Number_data,ax=ax1)\n",
    "sns.boxplot(y='wheelbase',data=Number_data,ax=ax2)\n",
    "sns.boxplot(y='carlength',data=Number_data,ax=ax3)\n",
    "sns.boxplot(y='carwidth',data=Number_data,ax=ax4)\n",
    "sns.boxplot(y='carheight',data=Number_data,ax=ax5)\n",
    "sns.boxplot(y='curbweight',data=Number_data,ax=ax6)\n",
    "sns.boxplot(y='enginesize',data=Number_data,ax=ax7)\n",
    "sns.boxplot(y='boreratio',data=Number_data,ax=ax8)\n",
    "sns.boxplot(y='stroke',data=Number_data,ax=ax9)\n",
    "sns.boxplot(y='compressionratio',data=Number_data,ax=ax10)\n",
    "sns.boxplot(y='horsepower',data=Number_data,ax=ax11)\n",
    "sns.boxplot(y='peakrpm',data=Number_data,ax=ax12)\n",
    "sns.boxplot(y='citympg',data=Number_data,ax=ax13)\n",
    "sns.boxplot(y='highwaympg',data=Number_data,ax=ax14)"
   ]
  },
  {
   "cell_type": "code",
   "execution_count": null,
   "metadata": {
    "scrolled": false
   },
   "outputs": [],
   "source": [
    "corr = Number_data.corr()\n",
    "plt.figure(figsize=(20,8))\n",
    "sns.heatmap(corr,annot=True,cmap='summer_r',annot_kws={'size':12})\n"
   ]
  },
  {
   "cell_type": "code",
   "execution_count": null,
   "metadata": {},
   "outputs": [],
   "source": [
    "# Merging the data (Numberic and Categorical Data)"
   ]
  },
  {
   "cell_type": "code",
   "execution_count": null,
   "metadata": {},
   "outputs": [],
   "source": [
    "Final_data = pd.concat([Number_data,Category_data_final],axis=1)"
   ]
  },
  {
   "cell_type": "code",
   "execution_count": null,
   "metadata": {
    "scrolled": true
   },
   "outputs": [],
   "source": [
    "Final_data.head()"
   ]
  },
  {
   "cell_type": "code",
   "execution_count": null,
   "metadata": {},
   "outputs": [],
   "source": [
    "Final_data.columns"
   ]
  },
  {
   "cell_type": "raw",
   "metadata": {},
   "source": [
    "Split the Data into Training (70%) and Test (30%)\n",
    "    1. Define the Variables in X,y\n",
    "    2. help(train_test_split)\n"
   ]
  },
  {
   "cell_type": "code",
   "execution_count": null,
   "metadata": {},
   "outputs": [],
   "source": [
    "X = Final_data[['symboling', 'wheelbase', 'carlength', 'carwidth', 'carheight','curbweight', 'enginesize', 'boreratio', 'stroke', 'compressionratio',\n",
    "       'horsepower', 'peakrpm', 'citympg', 'highwaympg','fueltype','aspiration', 'doornumber', 'enginelocation', 'carbody__hardtop',\n",
    "       'carbody__hatchback', 'carbody__sedan', 'carbody__wagon','drivewheel__fwd', 'drivewheel__rwd', 'enginetype__l',\n",
    "       'enginetype__ohc', 'enginetype__ohcf', 'enginetype__ohcv','enginetype__rotor', 'cylindernumber__five', 'cylindernumber__four',\n",
    "       'cylindernumber__six', 'cylindernumber__three','cylindernumber__twelve', 'cylindernumber__two', 'fuelsystem__2bbl',\n",
    "       'fuelsystem__4bbl', 'fuelsystem__idi', 'fuelsystem__mpfi','fuelsystem__spdi', 'brand_Name__audi', 'brand_Name__bmw',\n",
    "       'brand_Name__buick', 'brand_Name__chevrolet', 'brand_Name__dodge','brand_Name__honda', 'brand_Name__isuzu', 'brand_Name__jaguar',\n",
    "       'brand_Name__mazda', 'brand_Name__mercury', 'brand_Name__mitsubishi','brand_Name__nissan', 'brand_Name__peugeot', 'brand_Name__plymouth',\n",
    "       'brand_Name__porsche', 'brand_Name__renault', 'brand_Name__saab','brand_Name__subaru', 'brand_Name__toyota', 'brand_Name__volkswagen',\n",
    "       'brand_Name__volvo']]"
   ]
  },
  {
   "cell_type": "code",
   "execution_count": null,
   "metadata": {},
   "outputs": [],
   "source": [
    "y = Final_data['price']"
   ]
  },
  {
   "cell_type": "code",
   "execution_count": null,
   "metadata": {},
   "outputs": [],
   "source": [
    "X_train, X_test, y_train, y_test = train_test_split(X, y, test_size=0.30, random_state=42)"
   ]
  },
  {
   "cell_type": "code",
   "execution_count": null,
   "metadata": {
    "scrolled": true
   },
   "outputs": [],
   "source": [
    "print(X_train.shape)\n",
    "print(X_test.shape)\n",
    "print(y_train.shape)\n",
    "print(y_test.shape)"
   ]
  },
  {
   "cell_type": "code",
   "execution_count": null,
   "metadata": {},
   "outputs": [],
   "source": [
    "# Build the linear Regression in Normal way\n",
    "# Treat VIF issues Manually"
   ]
  },
  {
   "cell_type": "code",
   "execution_count": null,
   "metadata": {},
   "outputs": [],
   "source": [
    "lm = LinearRegression()"
   ]
  },
  {
   "cell_type": "code",
   "execution_count": null,
   "metadata": {},
   "outputs": [],
   "source": [
    "lm_fit = lm.fit(X_train,y_train)"
   ]
  },
  {
   "cell_type": "code",
   "execution_count": null,
   "metadata": {},
   "outputs": [],
   "source": [
    "# Check the Intercept values\n",
    "lm_fit.intercept_"
   ]
  },
  {
   "cell_type": "code",
   "execution_count": null,
   "metadata": {},
   "outputs": [],
   "source": [
    "# Check the Coefficent values\n",
    "lm_fit.coef_\n",
    "\n",
    "coffiecent = pd.DataFrame(lm_fit.coef_,X_train.columns,columns=['Cofficents'])\n",
    "coffiecent.head(15)"
   ]
  },
  {
   "cell_type": "raw",
   "metadata": {},
   "source": [
    "# Check the Prob Values, If we want sign. \n",
    "#Variables we need to add the Consistant value and build the OLS regression FIT."
   ]
  },
  {
   "cell_type": "code",
   "execution_count": null,
   "metadata": {},
   "outputs": [],
   "source": [
    "X_train_SM = sm.add_constant(X_train)\n",
    "lm_model1 = sm.OLS(y_train,X_train_SM).fit()\n",
    "print(lm_model1.summary())"
   ]
  },
  {
   "cell_type": "code",
   "execution_count": null,
   "metadata": {},
   "outputs": [],
   "source": []
  },
  {
   "cell_type": "code",
   "execution_count": null,
   "metadata": {},
   "outputs": [],
   "source": []
  },
  {
   "cell_type": "code",
   "execution_count": null,
   "metadata": {},
   "outputs": [],
   "source": []
  },
  {
   "cell_type": "code",
   "execution_count": null,
   "metadata": {},
   "outputs": [],
   "source": []
  },
  {
   "cell_type": "code",
   "execution_count": null,
   "metadata": {},
   "outputs": [],
   "source": []
  },
  {
   "cell_type": "code",
   "execution_count": null,
   "metadata": {},
   "outputs": [],
   "source": []
  },
  {
   "cell_type": "code",
   "execution_count": null,
   "metadata": {},
   "outputs": [],
   "source": []
  }
 ],
 "metadata": {
  "kernelspec": {
   "display_name": "Python 3",
   "language": "python",
   "name": "python3"
  },
  "language_info": {
   "codemirror_mode": {
    "name": "ipython",
    "version": 3
   },
   "file_extension": ".py",
   "mimetype": "text/x-python",
   "name": "python",
   "nbconvert_exporter": "python",
   "pygments_lexer": "ipython3",
   "version": "3.7.1"
  }
 },
 "nbformat": 4,
 "nbformat_minor": 2
}
